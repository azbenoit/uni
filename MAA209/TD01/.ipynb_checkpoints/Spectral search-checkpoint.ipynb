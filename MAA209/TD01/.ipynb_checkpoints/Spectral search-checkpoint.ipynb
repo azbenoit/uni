{
 "cells": [
  {
   "cell_type": "code",
   "execution_count": 19,
   "metadata": {},
   "outputs": [
    {
     "name": "stdout",
     "output_type": "stream",
     "text": [
      "[[ 2. -1.  0.  0.  0.  0.  0.  0.  0.  0.]\n",
      " [-1.  2. -1.  0.  0.  0.  0.  0.  0.  0.]\n",
      " [ 0. -1.  2. -1.  0.  0.  0.  0.  0.  0.]\n",
      " [ 0.  0. -1.  2. -1.  0.  0.  0.  0.  0.]\n",
      " [ 0.  0.  0. -1.  2. -1.  0.  0.  0.  0.]\n",
      " [ 0.  0.  0.  0. -1.  2. -1.  0.  0.  0.]\n",
      " [ 0.  0.  0.  0.  0. -1.  2. -1.  0.  0.]\n",
      " [ 0.  0.  0.  0.  0.  0. -1.  2. -1.  0.]\n",
      " [ 0.  0.  0.  0.  0.  0.  0. -1.  2. -1.]\n",
      " [ 0.  0.  0.  0.  0.  0.  0.  0. -1.  2.]]\n",
      "[0.08101405 0.31749293 0.69027853 1.16916997 1.71537032 2.28462968\n",
      " 2.83083003 3.30972147 3.68250707 3.91898595]\n"
     ]
    }
   ],
   "source": [
    "import numpy as np\n",
    "import pylab as plt\n",
    "\n",
    "N = 10\n",
    "\n",
    "vect = np.ones(N)\n",
    "A = 2*np.diag(vect,k=0)-np.diag(vect[0:-1],k=1)-np.diag(vect[0:-1],k=-1)\n",
    "\n",
    "# print the matrix A\n",
    "print(A)\n",
    "\n",
    "# compute the eigenvalues using the function from numpy\n",
    "ev = np.linalg.eig(A)\n",
    "print(np.sort(ev[0]))"
   ]
  },
  {
   "cell_type": "code",
   "execution_count": 16,
   "metadata": {},
   "outputs": [
    {
     "data": {
      "image/png": "[encoded data removed]",
      "text/plain": [
       "<Figure size 432x288 with 1 Axes>"
      ]
     },
     "metadata": {
      "needs_background": "light"
     },
     "output_type": "display_data"
    }
   ],
   "source": [
    "# define the absolute value of det(A-tId)\n",
    "def f(t):\n",
    "    return abs(np.linalg.det(A-t*np.eye(N)))\n",
    "\n",
    "# grid search and plot\n",
    "thetas = np.linspace(0.01,3.95,100)\n",
    "y      = np.zeros(len(thetas))\n",
    "for i in range(0,len(thetas)):\n",
    "    y[i] = f(thetas[i])\n",
    "    \n",
    "plt.figure()\n",
    "plt.plot(thetas,y)\n",
    "plt.show()"
   ]
  },
  {
   "cell_type": "code",
   "execution_count": null,
   "metadata": {},
   "outputs": [],
   "source": []
  }
 ],
 "metadata": {
  "kernelspec": {
   "display_name": "Python 3 (ipykernel)",
   "language": "python",
   "name": "python3"
  },
  "language_info": {
   "codemirror_mode": {
    "name": "ipython",
    "version": 3
   },
   "file_extension": ".py",
   "mimetype": "text/x-python",
   "name": "python",
   "nbconvert_exporter": "python",
   "pygments_lexer": "ipython3",
   "version": "3.9.7"
  }
 },
 "nbformat": 4,
 "nbformat_minor": 4
}
