{
 "cells": [
  {
   "cell_type": "markdown",
   "metadata": {},
   "source": [
    "# Gradient descent with Armijo line-search in dimension one\n"
   ]
  },
  {
   "cell_type": "code",
   "execution_count": 9,
   "metadata": {},
   "outputs": [],
   "source": [
    "import numpy as np\n",
    "import pylab as pl\n",
    "import matplotlib.pyplot as plt\n",
    "plt.rcParams['figure.dpi']= 100  # parameter for resolution of graphics\n",
    "import time\n",
    "\n",
    "v = 1   # variant corresponding to the number of the function below\n",
    "Maxiter = 200 # Number of iterations\n",
    "x0 = 2 # Initialization\n",
    "a = -2.5   # Lower bound for the plot interval\n",
    "b = 2.5    # Upper bound for the plot interval\n",
    "Tol = 1e-8\n",
    "\n",
    "InitStep = 1  # initial step\n",
    "m1 = 0.1    #Parameter for Armijo\n",
    "m2 = 0.9"
   ]
  },
  {
   "cell_type": "markdown",
   "metadata": {},
   "source": [
    "## Various objective functions\n",
    "\n",
    "Here we consider multiple functions to be tested with Newton's method\n",
    "\n",
    "Case 0: $f(x) = x^2$ (quadratic function, convergence in $1$ iteration)\n",
    "\n",
    "Case 1: $f(x) = x^6/6-x^2/2+x$ (here the choice of the initialization is important)\n",
    "\n",
    "Case 2: $f(x) = x^2-\\sin x$ \n",
    "\n",
    "Case 3: $f(x) = x^2+\\exp x$\n",
    "\n",
    "Case 4: $f(x) = x^4$ (this does not verify the non-degeneracy hypothesis: quadratic convergence is not attained)\n",
    "\n",
    "Case 5: $f(x) = \\sqrt{1+x^2}$ (here the choice of initialization is important: for $|x|<1$ we have cubic convergence, while for $|x|\\geq 1$ the algorithm diverges)"
   ]
  },
  {
   "cell_type": "code",
   "execution_count": 10,
   "metadata": {},
   "outputs": [],
   "source": [
    "def fun(x,v):                   # function definition\n",
    "    if v==0:\n",
    "        return x**2\n",
    "    if v==1:\n",
    "        return x**6/6-x**2/2+x\n",
    "    if v==2:\n",
    "        return x**2-np.sin(x)\n",
    "    if v==3:\n",
    "        return x**2+np.exp(x)\n",
    "    if v==4:\n",
    "        return x**4\n",
    "    if v==5:\n",
    "        return np.sqrt(1+x**2)\n",
    "def der(x,v):                   # first derivative\n",
    "    if v==0:\n",
    "        return 2*x\n",
    "    if v==1:\n",
    "        return x**5-x+1\n",
    "    if v==2:\n",
    "        return 2*x-np.cos(x)\n",
    "    if v==3: \n",
    "        return 2*x+np.exp(x)\n",
    "    if v==4:\n",
    "        return 4*x**3\n",
    "    if v==5:\n",
    "        return x/np.sqrt(1+x**2)\n",
    "def der2(x,v):                  # second derivative\n",
    "    if v==0: \n",
    "        return 2\n",
    "    if v==1:\n",
    "        return 5*x**4-1\n",
    "    if v==2: \n",
    "        return 2+np.sin(x)\n",
    "    if v==3:\n",
    "        return 2+np.exp(x)\n",
    "    if v==4:\n",
    "        return 12*x**2\n",
    "    if v==5:\n",
    "        return 1/np.sqrt(1+x**2)**3\n",
    "\n",
    "# List of optimizers for the above functions\n",
    "if v==0:\n",
    "    analytic = 0\n",
    "if v==1:\n",
    "    analytic = -1.1673039782614187\n",
    "if v==2:\n",
    "    analytic = 0.45018361129487355\n",
    "if v==3:\n",
    "    analytic = -0.35173371124919584\n",
    "if v==4:\n",
    "    analytic = 0\n",
    "if v==5:\n",
    "    analytic = 0"
   ]
  },
  {
   "cell_type": "markdown",
   "metadata": {},
   "source": [
    "## Algorithm: Gradient descent - Armijo line search\n",
    "\n",
    "<div style=\"background-color:lightblue;margin:20px;padding:10px;border-radius:10px;border-width:2px;border-color:black;box-shadow:5px 5px\">\n",
    "\n",
    " **Initialization:** Start with $t_l=t_r=0$ and pick an initial $t>0$.\n",
    "\n",
    " **Iterate:** \n",
    " - **Step 1**\n",
    "    - **if** (a) then exit: you found a good $t$\n",
    "    - **if** (b) then $t_r = t$: you found a new upper bound for $t$\n",
    "    - **if** (c) then $t_l = t$: you found a good new lower bound for $t$\n",
    " - **Step 2**\n",
    "    - **if** no valid $t_r$ exists then choose a new $t>t_r$\n",
    "    - **else** choose a new $t \\in (t_l,t_r)$\n",
    "   </div>\n",
    "\n",
    "\n",
    "Recall the three conditions\n",
    "\n",
    "$\\star$ $m_1,m_2 \\in (0,1)$ are chosen constants such that $m_1<0.5$ and $m_2>0.5$.\n",
    "\n",
    "(a) $\\frac{q(t)-q(0)}{t} \\leq m_1 q'(0)$ (then we have a good $t$)\n",
    "\n",
    "(b) $m_1q'(0)< \\frac{q(t)-q(0)}{t}$ (then $t$ is too big)\n",
    "\n",
    "(c) Never. You may take $t_l=0$ always.\n",
    "\n",
    "<div style=\"background-color:lightblue;margin:20px;padding:10px;border-radius:10px;border-width:2px;border-color:black;box-shadow:5px 5px\">\n",
    "\n",
    " **Initialization:** Choose the starting point $x_0$ and the step $t>0$.\n",
    "\n",
    " **Step $i$:** \n",
    "   - Compute $f(x_{i-1}),f'(x_{i-1})$\n",
    "   - compute the step size using the Armijo rule: consider the initial step $t = t_0$, parameter $m_1<0.5$ and consider the initial bounds equal to zero: $t_l=0,t_r=0$ and pick an initial $t>0$.\n",
    "   - replace $i$ with $i+1$ and loop\n",
    "</div>\n",
    "\n",
    "**Remarks** \n",
    "\n",
    "1. You should stop the line search when the step size is too small\n",
    "2. If the difference $|f(x_i)-f(x_{i-1})|$ is too small you may decide to stop the optimization algorithm.\n",
    "<!--3. You should write the condition in the line-search loop so that you do not compare something with the gradient squared: note that $q'(0) = f'(x)d = -(f'(x))^2$ when $d=-f'(x)$. If you do this, the algorithm will stop when $|f'(x)|<\\sqrt{\\varepsilon}$ which means you won't get precision better than the square root of the machine epsilon (typically around $10^{-8}$). You can use square roots when the quantities are positive to avoid this behavior. -->"
   ]
  },
  {
   "cell_type": "code",
   "execution_count": 11,
   "metadata": {},
   "outputs": [],
   "source": [
    "def GD(f,df,x0,tol,maxiter,m1,m2):\n",
    "    phist = []\n",
    "    vhist = []\n",
    "    ghist = []\n",
    "    phist.append(x0)            # Create an array which holds the optimization history\n",
    " \n",
    "    val = f(x0,v)\n",
    "    d   = -df(x0,v)\n",
    "    vhist.append(val)\n",
    "    ghist.append(d)\n",
    "    iter = 1\n",
    "    step = 1\n",
    "    prevval = val\n",
    "\n",
    "    while abs(step*d)>=Tol: \n",
    "        #Line search\n",
    "        tl=0\n",
    "        tr=0\n",
    "        t=1\n",
    "        #np.sqrt(abs((f(x0+step*d,v)-val)))/step<np.sqrt(abs(-(m1*(d*d))))\n",
    "        while (1==1):\n",
    "            qt = f(x0+t*d,v)\n",
    "            qp = -d*d\n",
    "            #print(tl,\" \",tr)\n",
    "            if ((qt-val)/t<=(m1*qp)) and ((qt-val)/t>=(m2*qp)):\n",
    "                step=t   # we found a good step\n",
    "                break\n",
    "            if ((qt-val)/t>(m1*qp)):\n",
    "                # step too big\n",
    "                tr = t\n",
    "            if ((qt-val)/t<(m2*qp)):\n",
    "                # step too small\n",
    "                tl = t\n",
    "            if(tr==0):\n",
    "                t = 2*tl\n",
    "            else:\n",
    "                t = 0.5*(tl+tr)\n",
    "            if abs(tr-tl)<1e-15*tr or tr<1e-15:\n",
    "                break\n",
    "\n",
    "        x0 = x0+step*(d)\n",
    "        val = f(x0,v)\n",
    "        d   = -df(x0,v)\n",
    "        print(\"Iter: \",iter,\"| Val: \",val,\"| Step: \",step,\" Grad: \",abs(d))\n",
    "\n",
    "        phist.append(x0)\n",
    "        vhist.append(val)\n",
    "        ghist.append(d)\n",
    "        iter=iter+1\n",
    "        if(iter>maxiter):\n",
    "            print('Maximum number of iterations reached!')\n",
    "            break\n",
    "       # if(abs(val-prevval)<Tol):\n",
    "            #print('Function does not decrease enough!')\n",
    "            #break\n",
    "        prevval = val\n",
    "        if(abs(d)<Tol): \n",
    "            print('Algorithm converged!')\n",
    "    return phist,vhist,ghist"
   ]
  },
  {
   "cell_type": "code",
   "execution_count": 12,
   "metadata": {
    "scrolled": false
   },
   "outputs": [
    {
     "name": "stdout",
     "output_type": "stream",
     "text": [
      "Iter:  1 | Val:  0.06054688493410746 | Step:  0.0625  Grad:  0.9375009536743164\n",
      "Iter:  2 | Val:  0.003898561233653434 | Step:  0.0625  Grad:  0.9960938096055542\n",
      "Iter:  3 | Val:  -0.060052008279602484 | Step:  0.0625  Grad:  1.0583489963228672\n",
      "Iter:  4 | Val:  -0.13224555179002687 | Step:  0.0625  Grad:  1.1244665771076097\n",
      "Iter:  5 | Val:  -0.21373532187026056 | Step:  0.0625  Grad:  1.1944953136621816\n",
      "Iter:  6 | Val:  -1.155994239677077 | Step:  1  Grad:  2.786020201743787\n",
      "Iter:  7 | Val:  -1.370749503169355 | Step:  0.125  Grad:  0.8183967319478023\n",
      "Iter:  8 | Val:  -1.398873661264303 | Step:  0.25  Grad:  0.7530181048850886\n",
      "Iter:  9 | Val:  -1.4259378810565657 | Step:  0.125  Grad:  0.12706614655456305\n",
      "Iter:  10 | Val:  -1.426952821015755 | Step:  0.125  Grad:  0.0005769679830316399\n",
      "Iter:  11 | Val:  -1.426952841080758 | Step:  0.125  Grad:  2.0514300922203077e-05\n",
      "Iter:  12 | Val:  -1.4269528411061285 | Step:  0.125  Grad:  7.265560810765237e-07\n",
      "Iter:  13 | Val:  -1.4269528411061605 | Step:  0.125  Grad:  2.5736048403501854e-08\n",
      "Number of iterations:  14\n",
      "Final position:  -1.1673039751544665\n",
      "Analytical sol:  -1.1673039782614187\n"
     ]
    },
    {
     "data": {
      "image/png": "[encoded data removed]",
      "text/plain": [
       "<Figure size 600x400 with 1 Axes>"
      ]
     },
     "metadata": {
      "needs_background": "light"
     },
     "output_type": "display_data"
    }
   ],
   "source": [
    "pp,vv,gg = GD(fun,der,x0,Tol,Maxiter,m1,m2)\n",
    "\n",
    "print('Number of iterations: ',len(pp))\n",
    "print('Final position: ',pp[-1])\n",
    "print('Analytical sol: ',analytic)\n",
    "\n",
    "uplim = max(fun(a,v),fun(b,v))+1   # set limits for the plot window\n",
    "dnlim = -3\n",
    "t1 = np.linspace(a,b,100)          # Create a discretization to be used with the plots\n",
    "plt.figure(1)\n",
    "plt.ylim([dnlim,uplim])            # Set upper bounds for the figure\n",
    "\n",
    "plt.plot(t1,fun(t1,v),'k')         # Plot the function to be optimized on the interval [a,b]\n",
    "plt.plot(pp,vv,'xr')\n",
    "\n",
    "plt.title('Optimization history')\n",
    "plt.show()"
   ]
  },
  {
   "cell_type": "markdown",
   "metadata": {},
   "source": [
    "After the optimization loop, the convergence history and the order of convergence is computed. For each one of the functions a value $x^*$ close to the analytical solution is provided. The order of convergence is obtained by plotting the ratio of two consecutive errors $\\displaystyle\\frac{|x_{n+1}-x^*|}{|x_n-x^*|}$ is plotted in log-log scale.\n",
    "\n",
    "(Note that if the number of iterations is too small (the method converged fast due to some miracle) then you won't be able to see anything in the error analysis.)"
   ]
  },
  {
   "cell_type": "code",
   "execution_count": 13,
   "metadata": {
    "scrolled": false
   },
   "outputs": [
    {
     "data": {
      "image/png": "[encoded data removed]",
      "text/plain": [
       "<Figure size 600x400 with 1 Axes>"
      ]
     },
     "metadata": {
      "needs_background": "light"
     },
     "output_type": "display_data"
    }
   ],
   "source": [
    "Niter = len(pp)+1# Error analysis   \n",
    "dis = np.linspace(1,Niter,Niter+1)\n",
    "points = np.array(pp)\n",
    "errors = abs(points-analytic)          # Compute differences between current points and the optimum\n",
    "if(dis.size>10):\n",
    "    dis2 = dis[0:10]\n",
    "else:\n",
    "    dis2 = dis\n",
    "sq  = 0.1**dis2                      # Construct curve of order 1\n",
    "sq2 = 100*sq**2                      # Construct curve of order 2\n",
    "sq3 = 100*sq**3                      # Construct curve of order 3\n",
    "\n",
    "\n",
    "plt.figure(2)\n",
    "plt.loglog(errors[:-1:],errors[1:],label='Errors')  # Plot the errors in log-log plot\n",
    "plt.loglog(sq,sq2,label='Order 2')                  # Plot order curves for comparison\n",
    "plt.loglog(sq,sq,label='Order 1')\n",
    "#plt.loglog(sq,sq3,label='Order 3')\n",
    "plt.legend(loc='best', shadow=True, fontsize='large')  # Show legend\n",
    "plt.show()                                          # Show plot"
   ]
  },
  {
   "cell_type": "code",
   "execution_count": null,
   "metadata": {},
   "outputs": [],
   "source": []
  },
  {
   "cell_type": "code",
   "execution_count": null,
   "metadata": {},
   "outputs": [],
   "source": []
  },
  {
   "cell_type": "code",
   "execution_count": null,
   "metadata": {},
   "outputs": [],
   "source": []
  }
 ],
 "metadata": {
  "celltoolbar": "Raw Cell Format",
  "kernelspec": {
   "display_name": "Python 3 (ipykernel)",
   "language": "python",
   "name": "python3"
  },
  "language_info": {
   "codemirror_mode": {
    "name": "ipython",
    "version": 3
   },
   "file_extension": ".py",
   "mimetype": "text/x-python",
   "name": "python",
   "nbconvert_exporter": "python",
   "pygments_lexer": "ipython3",
   "version": "3.9.7"
  }
 },
 "nbformat": 4,
 "nbformat_minor": 2
}
