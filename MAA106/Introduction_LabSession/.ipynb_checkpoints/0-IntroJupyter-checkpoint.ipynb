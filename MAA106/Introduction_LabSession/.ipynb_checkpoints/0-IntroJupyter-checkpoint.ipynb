{
 "cells": [
  {
   "cell_type": "markdown",
   "metadata": {},
   "source": [
    "<img src='./figures/logo-ecole-polytechnique-ve.jpg' style='position:absolute; top:0; right:0;' width='100px' height='' alt='' />\n",
    "\n",
    "<center><b>Bachelor of Ecole Polytechnique</b></center>\n",
    "<center>MAA106: Introduction to Numerical Analysis, year 1, semester 2</center>\n",
    "<center>Maxime Breden</center>\n",
    "<br>\n",
    "<center><i>Based on Notebooks created by Aline Lefebvre-Lepot</i></center>\n",
    "\n",
    "# Introduction to Jupyter Notebooks\n",
    "\n",
    "\n",
    "&nbsp;\n",
    "\n",
    "<img src=\"./figures/jupyter_logo.png\" alt=\"Logo_Jupyter\" style=\"width: 200px;\"/>\n",
    "\n",
    "&nbsp;"
   ]
  },
  {
   "cell_type": "markdown",
   "metadata": {},
   "source": [
    "<div markdown=1 class=Abstract>\n",
    "This tutorial gives a quick overview on how to install, run and use jupyter notebooks."
   ]
  },
  {
   "cell_type": "markdown",
   "metadata": {},
   "source": [
    "## Table of contents\n",
    "\n",
    "- [What is a Jupyter Notebook ?](#Jupyter)\n",
    "- [How to install and run Jupyter Notebook ?](#Install)\n",
    "- [Command mode](#CommandMode)\n",
    "- [Code cells](#CodeCells)\n",
    "- [Markdown cells](#MarkdownCells)\n",
    "- [To go further...](#Further)\n",
    "- [Notebook Style](#Style)\n"
   ]
  },
  {
   "cell_type": "markdown",
   "metadata": {},
   "source": [
    "<a id=\"Jupyter\"></a>\n",
    "## What is a Jupyter Notebook ?"
   ]
  },
  {
   "cell_type": "markdown",
   "metadata": {},
   "source": [
    "**Jupyter Notebook** is a web application allowing to design documents that contain both code and rich text elements such as figures, videos, links, equations... (cf https://jupyter-notebook.readthedocs.io/en/latest/examples/Notebook/examples_index.html)\n",
    "\n",
    "A Notebook consists in a succession of cells of two types:\n",
    "- *markdown cells* to display text\n",
    "- *code cells* containing codes that can be executed inside the notebook\n",
    "\n",
    "The native available languages for the code cells are Julia, Python and R (*Jupyter* is an acronym for these three languages). In this class, we will use Python language.\n",
    "\n",
    "Because of the mix of code and texts, Jupyter notebooks are ideal to describe methods, present their analysis and then produce and test the corresponding codes.\n",
    "\n"
   ]
  },
  {
   "cell_type": "markdown",
   "metadata": {},
   "source": [
    "<a id=\"Install\"></a>\n",
    "## How to install and run Jupyter Notebook ?"
   ]
  },
  {
   "cell_type": "markdown",
   "metadata": {},
   "source": [
    "We are going to work with Python 3. Jupyter is already installed on the machines in the classrooms. If you want to use it on your own machine, the recommendation is that you use the Anaconda distribution (cf. https://www.anaconda.com/what-is-anaconda/). Anaconda distribution contains both python and several surrounding packages, including Jupyter. You can download it there https://www.anaconda.com/download/ (take care to download the version including Python 3)."
   ]
  },
  {
   "cell_type": "markdown",
   "metadata": {},
   "source": [
    "To run the Jupyter server, simply type the following command in a terminal:\n",
    "```bash\n",
    "> jupyter notebook\n",
    "```\n",
    "If Anaconda is installed, you can also click on the Jypyter link in the Anaconda Navigator.\n",
    "\n",
    "This will open a new web browser window (or a new tab) showing a jupyter dashboard as this one:\n",
    "\n",
    "<img src=\"./figures/JupyterDashboard.png\" alt=\"Pi\" style=\"width:1600px;\"/>\n",
    "\n",
    "The menu bar is at the top and bellow is displayed the tree view of the current directory.\n",
    "\n",
    "Then, you can open your first jupyter notebook either by creating a new notebook (New > Python 3) or by opening an existing notebook clicking on a \".ipynb\" file in the tree view."
   ]
  },
  {
   "cell_type": "markdown",
   "metadata": {},
   "source": [
    "Two modes are available:\n",
    "- Command mode to act on the cells (copy, paste, delete...). The current cell is highlighted in blue.\n",
    "- Edit mode to modify the content of a cell. The current cell is highlighted in green.\n",
    "\n",
    "From command mode to edit mode: \n",
    "- double-click on the cell you want to edit\n",
    "- or type Enter when the cell you want to edit is the current cell \n",
    "\n",
    "From edit mode to command mode: \n",
    "- click outside the cells\n",
    "- or type Escape\n",
    "\n",
    "After modifying a cell in edit mode, you have to run it to display the text (markdown cell) or run the program (code cell):\n",
    "- Shift-Enter : Runs the current cell and goes on the next one (create it if does not exist)\n",
    "- Alt-Enter : Runs the current cell and inserts a new one below\n",
    "- Ctrl-Enter : Runs the current cell and enters command mode"
   ]
  },
  {
   "cell_type": "markdown",
   "metadata": {},
   "source": [
    "<a id=\"CommandMode\"></a>\n",
    "## Command mode"
   ]
  },
  {
   "cell_type": "markdown",
   "metadata": {},
   "source": [
    "When no cell is opened (click outside cells), you are in the *command mode*. In this mode, you can act on the cells but you cannot modify their contents. The current cell is highlighted in blue.\n",
    "\n",
    "In the command mode you can\n",
    "- save the notebook: type \"s\"\n",
    "- create new cells: \n",
    "    - type \"a\" (before the current cell)\n",
    "    - type \"b\" (after the current cell)\n",
    "- edit cells: \n",
    "    - type \"x\" (cuts the current cell)\n",
    "    - type \"c\" (copy the current cell)\n",
    "    - type \"v\" (paste  after the current cell)\n",
    "    - type \"Shift-v\" (paste above the current cell)\n",
    "    - type \"dd\" (delete  the current cell)\n",
    "    - type \"z\" (undo cell deletion)\n",
    "- modify the current cell type:\n",
    "    - type \"m\" (convert current cell to markdown cell)\n",
    "    - type \"y\" (convert current cell to code cell)"
   ]
  },
  {
   "cell_type": "markdown",
   "metadata": {},
   "source": [
    "<a id=\"CodeCells\"></a>\n",
    "## Code cells"
   ]
  },
  {
   "cell_type": "markdown",
   "metadata": {},
   "source": [
    "New cells are always created as code cells. A markdown cell can be converted to a code cell by typing \"y\" in the command mode. A code cell is waiting python instructions which are executed by running the cell (for example typing \"Shift-Enter\", see before):"
   ]
  },
  {
   "cell_type": "code",
   "execution_count": 1,
   "metadata": {},
   "outputs": [],
   "source": [
    "a=3"
   ]
  },
  {
   "cell_type": "markdown",
   "metadata": {},
   "source": [
    "The values of variables are kept for the following cells:"
   ]
  },
  {
   "cell_type": "code",
   "execution_count": 2,
   "metadata": {},
   "outputs": [
    {
     "name": "stdout",
     "output_type": "stream",
     "text": [
      "a = 3\n"
     ]
    }
   ],
   "source": [
    "print('a =',a)"
   ]
  },
  {
   "cell_type": "markdown",
   "metadata": {},
   "source": [
    "Any package existing in python is available:"
   ]
  },
  {
   "cell_type": "code",
   "execution_count": 3,
   "metadata": {},
   "outputs": [
    {
     "name": "stdout",
     "output_type": "stream",
     "text": [
      "pi = 3.141592653589793 cos(pi) = -1.0\n"
     ]
    }
   ],
   "source": [
    "from math import *\n",
    "print('pi =',pi,'cos(pi) =',cos(pi))"
   ]
  },
  {
   "cell_type": "markdown",
   "metadata": {},
   "source": [
    "<a id=\"MarkdownCells\"></a>\n",
    "## Markdown cells"
   ]
  },
  {
   "cell_type": "markdown",
   "metadata": {},
   "source": [
    "Markdown cells are **text cells**. The markdown language is a simplified language to create html texts including lists, tables, images... You can also use the html syntax in markdown cells.\n",
    "\n",
    "Lots of documentation can be found on the web about markdown language (see e.g. [Markdown syntax](https://help.github.com/articles/basic-writing-and-formatting-syntax/)). \n",
    "\n",
    "To modify Markdown cells:\n",
    "- double click to enter edit mode\n",
    "- modify the text\n",
    "- run the cell (see before)\n",
    "\n",
    "You will find a couple of examples below. Double-click on the cells to see the corresponding markdown syntax and run the cell (Shift-Enter) to display the text again."
   ]
  },
  {
   "cell_type": "markdown",
   "metadata": {},
   "source": [
    "### Create headings:\n",
    "\n",
    "# The largest heading\n",
    "## The second largest heading\n",
    "###### The smallest heading"
   ]
  },
  {
   "cell_type": "markdown",
   "metadata": {},
   "source": [
    "### Emphasize texts:\n",
    "\n",
    "**Bold text** or __Bold text__\n",
    "\n",
    "*italic text* or _italic text_\n",
    "\n",
    "~~mistaken text~~\n",
    "\n",
    "**_Bold and italic text_**\n"
   ]
  },
  {
   "cell_type": "markdown",
   "metadata": {},
   "source": [
    "### Write code or commands:\n",
    "\n",
    "This is a `command or code` within a sentence.\n",
    "\n",
    "This is a python block within a text cell\n",
    "```python\n",
    "print \"Hello World\"\n",
    "```\n",
    "\n",
    "This is a terminal command block within a text cell\n",
    "```bash\n",
    "> jupyter notebook\n",
    "```"
   ]
  },
  {
   "cell_type": "markdown",
   "metadata": {},
   "source": [
    "### Create Links:\n",
    "\n",
    "http://jupyter.org/ or [Jupyter](http://jupyter.org/)"
   ]
  },
  {
   "cell_type": "markdown",
   "metadata": {},
   "source": [
    "### Create lists:\n",
    "\n",
    "List 1:\n",
    "- item 1\n",
    "- item 2\n",
    "    - item 2.1 (indent with 4 spaces)\n",
    "    - item 2.2\n",
    "    \n",
    "List 2:\n",
    "1. Make some changes\n",
    "    1. Fix bug\n",
    "    2. Improve formatting\n",
    "        - Make the headings bigger\n",
    "2. Push my commits to GitHub\n",
    "3. Open a pull request\n",
    "    - Describe my changes\n",
    "    - Mention all the members of my team\n",
    "        - Ask for feedback"
   ]
  },
  {
   "cell_type": "markdown",
   "metadata": {},
   "source": [
    "### Create a table\n",
    "\n",
    "\n",
    "| This | is   |\n",
    "|------|------|\n",
    "|   a  | table|\n",
    "|with  | 2 lines|"
   ]
  },
  {
   "cell_type": "markdown",
   "metadata": {},
   "source": [
    "### Insert an image or a video\n",
    "\n",
    "Insert an image :\n",
    "\n",
    "<img src=\"./figures/jupyter_logo.png\" alt=\"Logo\" style=\"width: 50px;\"/>"
   ]
  },
  {
   "cell_type": "markdown",
   "metadata": {},
   "source": [
    "### Shift text\n",
    "\n",
    "> This is a text"
   ]
  },
  {
   "cell_type": "markdown",
   "metadata": {},
   "source": [
    "### Insert equations using LaTex syntax"
   ]
  },
  {
   "cell_type": "markdown",
   "metadata": {},
   "source": [
    "LaTex is a tool that allows to write scientific documents including mathematical expressions, tables, numbering of sections/equations, bibliography...\n",
    "\n",
    "In this course, you will mostly need to write rather basic mathematical expressions in latex. A few useful examples are given bellow (double-click on the cell to see the corresponding latex expression):\n",
    "\n",
    "- mathematical expression $x^n$ in a sentence or centered: $$x^n$$\n",
    "- subscripts and exponents: $a_i^n$\n",
    "- fractions: $\\frac{1}{2}$\n",
    "- integrals: $\\int_a^b f(x)dx$\n",
    "- Greek letters (where the command `\\,` creates a space between the symbols): $\\alpha \\, \\beta \\, \\gamma \\, \\rho \\, \\sigma \\, \\delta \\, \\epsilon$ \n",
    "- quantifiers (where the command `\\quad` creates a tabulation): $$\\forall \\epsilon\\in R,\\quad{} \\exists x\\in [0,\\epsilon],\\ldots$$\n",
    "- sums and brackets (the left and right commands for brackets adapt the height of the brackets to the content):\n",
    "$$\n",
    "\\left( \\sum_{k=1}^n a_k b_k \\right)^2 \\leq \\left( \\sum_{k=1}^n a_k^2 \\right) \\left( \\sum_{k=1}^n b_k^2 \\right)\n",
    "$$\n",
    "- more complex equations on several lines:\n",
    "$$\n",
    "\\left\\{\n",
    "\\begin{aligned}\n",
    "\\frac{d \\theta}{d \\tau} & = e^\\theta - \\alpha_0 \\, (1 + \\mu \\, \\psi^2) \\, \\theta\\\\\n",
    "\\frac{d \\psi}{d \\tau} & = -a \\, \\psi (\\psi^2 + \\theta_c - \\theta)\n",
    "\\end{aligned}\n",
    "\\right.\n",
    "$$\n",
    "\n",
    "Again, lots of documentation can be found on the web if you need more advanced LaTex usage (see e.g. [Maths in Latex](https://fr.sharelatex.com/learn/Mathematical_expressions))."
   ]
  },
  {
   "cell_type": "markdown",
   "metadata": {},
   "source": [
    "<div  markdown=1 class=\"DoIt\"> Write the latex formula for the famous Euler identity: e^(i*pi)+1 = 0 and test it using python\n",
    "\n",
    "$$ \\exp(i\\pi)+1=0$$"
   ]
  },
  {
   "cell_type": "code",
   "execution_count": 4,
   "metadata": {},
   "outputs": [
    {
     "name": "stdout",
     "output_type": "stream",
     "text": [
      "1.2246467991473532e-16j\n"
     ]
    }
   ],
   "source": [
    "import cmath\n",
    "print(cmath.exp(1j*pi)+1)"
   ]
  },
  {
   "cell_type": "markdown",
   "metadata": {},
   "source": [
    "<a id=\"Style\"></a>\n",
    "## Notebook Style"
   ]
  },
  {
   "cell_type": "markdown",
   "metadata": {},
   "source": [
    "A css file can be used to modify the style of a notebook. To display the corresponding style, one has to run the corresponding cell:"
   ]
  },
  {
   "cell_type": "code",
   "execution_count": 5,
   "metadata": {},
   "outputs": [
    {
     "data": {
      "text/html": [
       "<link href='http://fonts.googleapis.com/css?family=Fenix' rel='stylesheet' type='text/css'>\n",
       "<link href='http://fonts.googleapis.com/css?family=Alegreya+Sans:100,300,400,500,700,800,900,100italic,300italic,400italic,500italic,700italic,800italic,900italic' rel='stylesheet' type='text/css'>\n",
       "<link href='http://fonts.googleapis.com/css?family=Source+Code+Pro:300,400' rel='stylesheet' type='text/css'>\n",
       "<link href=\"https://fonts.googleapis.com/css?family=Oswald|Raleway\" rel=\"stylesheet\" type='text/css'> \n",
       "<style>\n",
       ".prompt{\n",
       "    display: none !important;\n",
       "}\n",
       "\n",
       ".rendered_html pre {\n",
       "    border: 1px solid #f0f6f9 !important;\n",
       "}\n",
       "\n",
       ".rendered_html pre, .rendered_html code {\n",
       "    background-color: #d3d8db !important;\n",
       "    padding: 1% !important;\n",
       "    line-height: 200% !important;\n",
       "    border-radius: 10px !important;\n",
       "}\n",
       "\n",
       "div.input_area {\n",
       "    border-radius: 10px !important;\n",
       "    background-color: #e1e1e6 !important;\n",
       "}\n",
       "\n",
       "div.cell{\n",
       "        width:85% !important;\n",
       "        margin-left:5% !important;\n",
       "        /*margin-right:auto;*/\n",
       "    }\n",
       "    h1, h2, h3, h4, h5 {\n",
       "        font-family: 'Oswald', sans-serif; !important;\n",
       "        font-style: oblique !important;\n",
       "    }\n",
       "    div.text_cell_render{\n",
       "        font-family: 'Raleway', sans-serif; !important;\n",
       "        line-height: 135% !important;\n",
       "        font-size: 120% !important;\n",
       "        width:100%;/*600px;*/\n",
       "        /*margin-left:auto;*/\n",
       "        /*margin-right:auto;*/\n",
       "    }\n",
       "    .CodeMirror{\n",
       "            font-family: \"Source Code Pro\" !important;\n",
       "\t\t\tfont-size: 100% !important;\n",
       "    }\n",
       "    .text_cell_render p{\n",
       "        text-align: justify !important;\n",
       "    }\n",
       "    .text_cell_render h1 {\n",
       "        font-weight: 200 !important;\n",
       "\t\tline-height: 100% !important;\n",
       "        color:#47597A !important;\n",
       "        margin-bottom: 10.em !important;\n",
       "        margin-top: 50.em !important;\n",
       "        padding-bottom: 50.em !important;\n",
       "        padding-top: 50.em !important;\n",
       "        display: block !important;\n",
       "        font-size: 300% !important;\n",
       "        text-align: center !important;\n",
       "        border-bottom: 1px solid #47597A !important;\n",
       "        border-top: 1px solid #47597A !important;\n",
       "    }\n",
       "    .text_cell_render h2 {\n",
       "        font-weight: 200 !important;\n",
       "\tline-height: 100% !important;\n",
       "        color:#47597A !important;\n",
       "        margin-bottom: 0.5em !important;\n",
       "        margin-top: 0.5em !important;\n",
       "        display: block !important;\n",
       "        font-size: 200% !important;\n",
       "        border-bottom: 1px solid #47597A !important;\n",
       "    }\n",
       "    .text_cell_render h3 {\n",
       "        font-weight: 200 !important;\n",
       "\tline-height: 100% !important;\n",
       "        color:#47597A !important;\n",
       "        margin-bottom: 0.5em !important;\n",
       "        margin-top: 0.5em !important;\n",
       "        display: block !important;\n",
       "        font-size: 150% !important;\n",
       "    }\n",
       "    .text_cell_render h4 {\n",
       "        font-style: italic !important;\n",
       "        font-weight: bold !important;\n",
       "\tline-height: 100% !important;\n",
       "        color:#47597A !important;\n",
       "        display: block !important;\n",
       "        font-size: 100% !important;\n",
       "    }\n",
       "    .text_cell_render h5 {\n",
       "        font-weight: 200 !important;\n",
       "\tline-height: 100% !important;\n",
       "        color:#47597A !important;\n",
       "        margin-bottom: 0.5em !important;\n",
       "        margin-top: 0.5em !important;\n",
       "        display: block !important;\n",
       "        font-size: 100% !important;\n",
       "    }\n",
       "    .text_cell_render ul {\n",
       "\tlist-style-type: disc !important;\n",
       "\tline-height: 2;\n",
       "\t/*color:#47597A !important;*/\n",
       "    }\n",
       "    .warning{\n",
       "        color: rgb( 240, 20, 20 ) !important;\n",
       "        }\n",
       "    .Abstract {  \n",
       "\ttext-align: justify;\n",
       "\tbackground-color: #d6edf9;\n",
       "\tborder-left: 5px solid #47597A;\n",
       "\tpadding: 0.5em;\n",
       "\tmargin: 0  150px 0 150px;\n",
       "    }\n",
       "    .Def {    \n",
       "\tbackground-color: #d9f7d7;\n",
       "\tborder-left: 5px solid #4a7047;\n",
       "\tpadding: 0.5em;\n",
       "    }\n",
       "    .Def:before {\n",
       "\tcontent: \"Definition.\";\n",
       "\tcolor:#4a7047;\n",
       "\tfont-weight: bold;\n",
       "\tfont-style: normal;\n",
       "    }\n",
       "    .DoIt {    \n",
       "\tbackground-color: #e8cfc9;\n",
       "\tborder-left: 5px solid #a90e05;\n",
       "\tpadding: 0.5em;\n",
       "    }\n",
       "    .DoIt:before {\n",
       "\tcontent: \"Do it yourself.\";\n",
       "\tcolor:#a90e05;\n",
       "\tfont-weight: bold;\n",
       "\tfont-style: normal;\n",
       "    }\n",
       "    .Answer {    \n",
       "\tbackground-color:   #fdf2e9  ;\n",
       "\tborder-left: 5px solid #a90e05;\n",
       "\tpadding: 0.5em;\n",
       "    }\n",
       "    .Answer:before {\n",
       "\tcontent: \"Answer.\";\n",
       "\tcolor:#a90e05;\n",
       "\tfont-weight: bold;\n",
       "\tfont-style: normal;\n",
       "    }\n",
       "    .Correction {    \n",
       "\tbackground-color: #ffffcc;\n",
       "\tborder-left: 5px solid #a90e05;\n",
       "\tpadding: 0.5em;\n",
       "    }\n",
       "    .Correction:before {\n",
       "\tcontent: \"Correction.\";\n",
       "\tcolor:#a90e05;\n",
       "\tfont-weight: bold;\n",
       "\tfont-style: normal;\n",
       "    }\n",
       "    .Prop {    \n",
       "\tbackground-color:#f9ecd1;\n",
       "\tborder-left: 5px solid #ba7021;\n",
       "\tpadding: 0.5em;\n",
       "    }\n",
       "   .Prop:before {\n",
       "       content: \"Proposition.\";\n",
       "       color:#ba7021;\n",
       "       font-weight: bold;\n",
       "       font-style: normal;\n",
       "    }\n",
       "   .Thm {    \n",
       "\tbackground-color:#f9ecd1;\n",
       "\tborder-left: 5px solid #ba7021;\n",
       "\tpadding: 0.5em;\n",
       "    }\n",
       "   .Thm:before {\n",
       "       content: \"Theorem.\";\n",
       "       color:#ba7021;\n",
       "       font-weight: bold;\n",
       "       font-style: normal;\n",
       "    } \n",
       "   .Algo {    \n",
       "\tbackground-color:#f9ecd1;\n",
       "\tborder-left: 5px solid #ba7021;\n",
       "\tpadding: 0.5em;\n",
       "    }\n",
       "   .Algo:before {\n",
       "       content: \"Algorithm.\";\n",
       "       color:#ba7021;\n",
       "       font-weight: bold;\n",
       "       font-style: normal;\n",
       "    }\n",
       "    .Rmk {    \n",
       "\tbackground-color: #dbf1fc;\n",
       "\tborder-left: 5px solid #385487;\n",
       "\tpadding: 0.5em;\n",
       "    }\n",
       "    .Rmk:before {\n",
       "\tcontent: \"Remark.\";\n",
       "\tcolor:#385487;\n",
       "\tfont-weight: bold;\n",
       "\tfont-style: normal;\n",
       "    }\n",
       "    .Fur {    \n",
       "\tbackground-color:  #e8daef;\n",
       "\tborder-left: 5px solid #5b2c6f;\n",
       "\tpadding: 0.5em;\n",
       "    }\n",
       "    .Fur:before {    \n",
       "\tcontent: \"Remark (to go further).\";\n",
       "\tcolor:  #5b2c6f;\n",
       "\tfont-weight: bold;\n",
       "\tfont-style: normal;\n",
       "    }\n",
       "    .Ex {    \n",
       "\tbackground-color: #dbf1fc;\n",
       "\tborder-left: 5px solid #385487;\n",
       "\tpadding: 0.5em;\n",
       "    }\n",
       "    .Ex:before {\n",
       "\tcontent: \"Example.\";\n",
       "\tcolor:#385487;\n",
       "\tfont-weight: bold;\n",
       "\tfont-style: normal;\n",
       "    }\n",
       "\n",
       "/*    .toc-item-num {\n",
       "#        display: none;\n",
       "#    }\n",
       "*/\n",
       "    .reveal section img{\n",
       "        margin: 0px auto;\n",
       "    }\n",
       "\n",
       "    div.output_area img{\n",
       "        display: block;\n",
       "        margin: 0px auto;\n",
       "    }\n",
       "  \n",
       "</style>\n",
       "\n",
       "<script>\n",
       "MathJax.Hub.Config({\n",
       "TeX: {extensions: [\"AMSmath.js\"] },\n",
       "                tex2jax: {\n",
       "                    inlineMath: [ ['$','$'], [\"\\\\(\",\"\\\\)\"] ],\n",
       "                    displayMath: [ ['$$','$$'], [\"\\\\[\",\"\\\\]\"] ]\n",
       "                },\n",
       "                displayAlign: 'center', // Change this to 'center' to center equations.\n",
       "                \"HTML-CSS\": {\n",
       "                    styles: {'.MathJax_Display': {\"margin\": 4}}\n",
       "                }\n",
       "        });\n",
       "\n",
       "\n",
       "\n",
       "</script>\n"
      ],
      "text/plain": [
       "<IPython.core.display.HTML object>"
      ]
     },
     "execution_count": 5,
     "metadata": {},
     "output_type": "execute_result"
    }
   ],
   "source": [
    "# execute this part to modify the css style\n",
    "from IPython.core.display import HTML\n",
    "def css_styling():\n",
    "    styles = open(\"./style/custom3.css\").read()\n",
    "    return HTML(styles)\n",
    "css_styling()"
   ]
  }
 ],
 "metadata": {
  "@webio": {
   "lastCommId": null,
   "lastKernelId": null
  },
  "kernelspec": {
   "display_name": "Python 3",
   "language": "python",
   "name": "python3"
  },
  "language_info": {
   "codemirror_mode": {
    "name": "ipython",
    "version": 3
   },
   "file_extension": ".py",
   "mimetype": "text/x-python",
   "name": "python",
   "nbconvert_exporter": "python",
   "pygments_lexer": "ipython3",
   "version": "3.7.6"
  },
  "latex_envs": {
   "LaTeX_envs_menu_present": true,
   "autoclose": false,
   "autocomplete": false,
   "bibliofile": "biblio.bib",
   "cite_by": "apalike",
   "current_citInitial": 1,
   "eqLabelWithNumbers": true,
   "eqNumInitial": 1,
   "hotkeys": {
    "equation": "Ctrl-E",
    "itemize": "Ctrl-I"
   },
   "labels_anchors": false,
   "latex_user_defs": false,
   "report_style_numbering": false,
   "user_envs_cfg": false
  },
  "toc": {
   "base_numbering": 1,
   "nav_menu": {},
   "number_sections": true,
   "sideBar": true,
   "skip_h1_title": false,
   "title_cell": "Table of Contents",
   "title_sidebar": "Contents",
   "toc_cell": false,
   "toc_position": {},
   "toc_section_display": true,
   "toc_window_display": false
  }
 },
 "nbformat": 4,
 "nbformat_minor": 2
}
