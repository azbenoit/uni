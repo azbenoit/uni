{
 "cells": [
  {
   "cell_type": "markdown",
   "metadata": {},
   "source": [
    "<img src='./figures/logo-ecole-polytechnique-ve.jpg' style='position:absolute; top:0; right:0;' width='100px' height='' alt='' />\n",
    "\n",
    "<center><b>Bachelor of Ecole Polytechnique</b></center>\n",
    "<center>MAA106: Introduction to Numerical Analysis, year 1, semester 2</center>\n",
    "<center>Maxime Breden</center>\n",
    "<br>\n",
    "<center><i>Based on Notebooks created by Aline Lefebvre-Lepot</i></center>\n",
    "\n",
    "# Introduction to Numpy and Matplotlib\n",
    "\n",
    "\n",
    "&nbsp;\n",
    "<center>\n",
    "<img src=\"./figures/numpy.jpeg\" alt=\"Numpy_logo\" style=\"display:inline-block;\"/> &nbsp; &nbsp; &nbsp; &nbsp;&nbsp; &nbsp; &nbsp; &nbsp;\n",
    "<img src=\"./figures/matplotlib.png\" alt=\"Matplotlib_logo\" style=\"display:inline-block;\"/>\n",
    "</center>\n",
    "&nbsp;"
   ]
  },
  {
   "cell_type": "markdown",
   "metadata": {},
   "source": [
    "<div markdown=1 class=Abstract>\n",
    "This tutorial gives a quick overview on how to use the python packages Numpy and Matplotlib."
   ]
  },
  {
   "cell_type": "markdown",
   "metadata": {},
   "source": [
    "## Table of contents\n",
    "\n",
    "- [Numpy](#Numpy)\n",
    "- [Matplotlib](#Matplotlib)\n"
   ]
  },
  {
   "cell_type": "markdown",
   "metadata": {},
   "source": [
    "<a id=\"Numpy\"></a>\n",
    "## Numpy"
   ]
  },
  {
   "cell_type": "markdown",
   "metadata": {},
   "source": [
    "**NumPy** is the fundamental package for scientific computing with Python (see http://www.numpy.org/). It contains powerful N-dimensional array objects, linear algebra, Fourier transform, random numbers and also sophisticated tools for integrating C++ and Fortran code.\n",
    "\n",
    "In this class, we are going to use this package essentially to manipulate arrays. Lot of documentations about numpy can be found on the web, we give below basic examples that will be useful in the following.\n",
    "\n",
    "First, you need to import the numpy package:"
   ]
  },
  {
   "cell_type": "code",
   "execution_count": null,
   "metadata": {},
   "outputs": [],
   "source": [
    "import numpy as np"
   ]
  },
  {
   "cell_type": "markdown",
   "metadata": {},
   "source": [
    "### Creating arrays"
   ]
  },
  {
   "cell_type": "code",
   "execution_count": null,
   "metadata": {},
   "outputs": [],
   "source": [
    "# One-dimensional arrays\n",
    "a = np.array([0, 1, 2, 3])\n",
    "print('a =',a)\n",
    "print('a.shape =',a.shape)\n",
    "print('a.size =',a.size)"
   ]
  },
  {
   "cell_type": "code",
   "execution_count": null,
   "metadata": {},
   "outputs": [],
   "source": [
    "# Two-dimensional arrays\n",
    "L1 = [0, 1, 2, 3]\n",
    "L2 = [4, 5, 6, 7]\n",
    "a = np.array([L1, L2])\n",
    "print('a =', a)\n",
    "print('a.shape =', a.shape)\n",
    "print('a.size =', a.size)"
   ]
  },
  {
   "cell_type": "markdown",
   "metadata": {},
   "source": [
    "You can use tabulation in notebooks for autocompletion or to obtain the list of possible completions. You can also obtain interactive help:"
   ]
  },
  {
   "cell_type": "code",
   "execution_count": null,
   "metadata": {},
   "outputs": [],
   "source": [
    "np.array?"
   ]
  },
  {
   "cell_type": "markdown",
   "metadata": {},
   "source": [
    "There exists several functions to create arrays:"
   ]
  },
  {
   "cell_type": "code",
   "execution_count": null,
   "metadata": {},
   "outputs": [],
   "source": [
    "# imposing the number of elements\n",
    "c = np.linspace(0, 1, 6)   # start, end, number of points\n",
    "print('c =', c)"
   ]
  },
  {
   "cell_type": "code",
   "execution_count": null,
   "metadata": {},
   "outputs": [],
   "source": [
    "# imposing the step between the elements\n",
    "a = np.arange(10) # 0 .. n-1  (!) start=0 and step=1 by default\n",
    "b = np.arange(1, 9, 2) # start, end (exclusive), step\n",
    "c = np.arange(1, 2, 0.1) # start, end (exclusive), step\n",
    "print('a =', a)\n",
    "print('b =', b)\n",
    "print('c =', c)"
   ]
  },
  {
   "cell_type": "code",
   "execution_count": null,
   "metadata": {},
   "outputs": [],
   "source": [
    "# arrays of 0's or 1's with given size\n",
    "a = np.zeros(2) # 1 dimensional, number of elements\n",
    "b = np.ones(3) # 1 dimensional, number of elements\n",
    "c = np.zeros((2, 3)) # 2-dimensional, tuple (number of rows, number of columns)\n",
    "print('a =', a)\n",
    "print('b =', b)\n",
    "print('c =', c)"
   ]
  },
  {
   "cell_type": "code",
   "execution_count": null,
   "metadata": {},
   "outputs": [],
   "source": [
    "# random initialization\n",
    "a = np.random.rand(4) # uniform in [0,1]\n",
    "b = np.random.randn(4) # gaussian\n",
    "print('a =', a)\n",
    "print('b =', b)"
   ]
  },
  {
   "cell_type": "markdown",
   "metadata": {},
   "source": [
    "<div markdown=1 class=DoIt>\n",
    "\n",
    "- Create a null vector of size 10.\n",
    "- Create a vector with values ranging from 10 to 49.\n",
    "- create a vector with values ranging from 0 to 1 with 100 points. \n",
    "- Create a 3x3 random matrix.\n",
    "- print the size of the previous arrays."
   ]
  },
  {
   "cell_type": "markdown",
   "metadata": {},
   "source": [
    "### Indexing of arrays"
   ]
  },
  {
   "cell_type": "markdown",
   "metadata": {},
   "source": [
    "The elements are indexed from 0:\n",
    "- the first element has index 0\n",
    "- the second element has index 1 etc...\n",
    "\n",
    "The elements can also been indexed from the end:\n",
    "- the last element can be obtained using index -1\n",
    "- the second to last can be obtained using index -2 etc..."
   ]
  },
  {
   "cell_type": "code",
   "execution_count": null,
   "metadata": {},
   "outputs": [],
   "source": [
    "# One dimensional arrays\n",
    "a = np.arange(8)\n",
    "print('a =', a)\n",
    "print('elements =', a[0], a[4], a[-1], a[-3])  # extract an elements, 0 = first, 1 = second..., -1 = last"
   ]
  },
  {
   "cell_type": "code",
   "execution_count": null,
   "metadata": {},
   "outputs": [],
   "source": [
    "# Two dimensional arrays\n",
    "L1 = [0, 1, 2, 3, 4, 5]\n",
    "L2 = [10, 11, 12, 13, 14, 15]\n",
    "a = np.array([L1, L2])\n",
    "print(a)\n",
    "print('element =', a[1, 3]) # extract an element, 0 = beginning, -1 = end (2nd row, 4th column) \n",
    "print('column =', a[:, 2]) # extract a column, 0 = beginning, -1 = end\n",
    "print('row =', a[1, :]) # extract a row, 0 = beginning, -1 = end"
   ]
  },
  {
   "cell_type": "markdown",
   "metadata": {},
   "source": [
    "### Slicing of arrays"
   ]
  },
  {
   "cell_type": "markdown",
   "metadata": {},
   "source": [
    "Slicing of arrays is based on the following indexing where [: is the default start and :] the default end. Except if using the default end, the last element is excluded from the selection.\n",
    "\n",
    "<center>\n",
    "<img src=\"figures/accesElem.png\" style=\"width: 30%;\" />\n",
    "</center>\n",
    "\n",
    "It is a powerful way of extracting sub-arrays from a given array."
   ]
  },
  {
   "cell_type": "markdown",
   "metadata": {},
   "source": [
    "<div markdown=1 class=DoIt>\n",
    "\n",
    "- Successively uncomment the various extractions of the array a defined in the following cell, by using \"ctrl+/\" or by deleting the \"#\" symbol at the beginning of each line, to see how slicing works in practice."
   ]
  },
  {
   "cell_type": "code",
   "execution_count": null,
   "metadata": {},
   "outputs": [],
   "source": [
    "## Slicing one dimensional arrays\n",
    "a = np.arange(10)\n",
    "print('a =', a)\n",
    "# print('extract 1 =', a[1:7:2])   # start, end (exclusive), step\n",
    "# print('extract 2 =', a[1:7:])    # default step = 1\n",
    "# print('extract 3 =', a[:7:2])    # default start = first element (= 0)\n",
    "# print('extract 4 =', a[3::1])    # default end = until last element \n",
    "# print('extract 5 =', a[3:-1:1])  # !!! if end = -1, the last element is excluded (see figure)\n",
    "# print('extract 6 =', a[6:2:-1])  # negative step\n",
    "\n",
    "## short commands:\n",
    "# print('extract 7 =', a[1:7])     # same result as extract 2: default step=1\n",
    "# print('extract 8 =', a[3:])      # same result as extract 4: default step=1, default end=last element\n",
    "# print('extract 9 =', a[:3])      # default step=1, default start=1st element"
   ]
  },
  {
   "cell_type": "code",
   "execution_count": null,
   "metadata": {},
   "outputs": [],
   "source": [
    "# Slicing two dimensional arrays\n",
    "L1 = [0, 1, 2, 3, 4, 5]\n",
    "L2 = [10, 11, 12, 13, 14, 15]\n",
    "a = np.array([L1, L2])\n",
    "print('a =', a)\n",
    "print('extract =', a[0, ::2])"
   ]
  },
  {
   "cell_type": "code",
   "execution_count": null,
   "metadata": {},
   "outputs": [],
   "source": [
    "# slicing can also be used to assign values in an array\n",
    "a = np.zeros(10)\n",
    "a[::2] = 1\n",
    "print('a =', a)"
   ]
  },
  {
   "cell_type": "markdown",
   "metadata": {},
   "source": [
    "<div markdown=1 class=DoIt>\n",
    "\n",
    "- Create a 2-d array of size 10x10, with 1's on the borders and 0's inside."
   ]
  },
  {
   "cell_type": "markdown",
   "metadata": {},
   "source": [
    "<div markdown=1 class=DoIt>\n",
    "\n",
    "- Create a 8x8 matrix and fill it with a checkerboard pattern of 0's and 1's."
   ]
  },
  {
   "cell_type": "markdown",
   "metadata": {},
   "source": [
    "<div markdown=1 class=DoIt>\n",
    "\n",
    "- Create a random vector of size 5 and exchange the max and min values"
   ]
  },
  {
   "cell_type": "markdown",
   "metadata": {},
   "source": [
    "### Loops and computations on arrays"
   ]
  },
  {
   "cell_type": "markdown",
   "metadata": {},
   "source": [
    "<div markdown=1 class=DoIt>\n",
    "\n",
    "- Save your notebook..."
   ]
  },
  {
   "cell_type": "markdown",
   "metadata": {},
   "source": [
    "Loop counters are designed so that one can scan an array using a.shape:"
   ]
  },
  {
   "cell_type": "code",
   "execution_count": null,
   "metadata": {},
   "outputs": [],
   "source": [
    "a = np.zeros((2, 3)) \n",
    "for i in range(a.shape[0]):\n",
    "    for j in range(a.shape[1]):\n",
    "        a[i, j] = (i + 1)*(j + 1)\n",
    "print('a =', a)"
   ]
  },
  {
   "cell_type": "markdown",
   "metadata": {},
   "source": [
    "**However, numpy has built-in element-wise array operations, and one should typically avoid using loops on arrays when possible.**"
   ]
  },
  {
   "cell_type": "code",
   "execution_count": null,
   "metadata": {},
   "outputs": [],
   "source": [
    "a = np.linspace(0, 1, 10000000)\n",
    "b = np.zeros(10000000)\n",
    "for i in range(a.size): b[i] = 3*a[i] - 1\n",
    "print(\"Done\")"
   ]
  },
  {
   "cell_type": "code",
   "execution_count": null,
   "metadata": {},
   "outputs": [],
   "source": [
    "a = np.linspace(0, 1, 10000000)\n",
    "b = np.zeros(10000000)\n",
    "b[:] = 3*a - 1\n",
    "print(\"Done\")"
   ]
  },
  {
   "cell_type": "code",
   "execution_count": null,
   "metadata": {},
   "outputs": [],
   "source": [
    "# b = 3a-1 with a loop\n",
    "a = np.linspace(0, 1, 100000)\n",
    "b = np.zeros(100000)\n",
    "%timeit for i in range(a.size): b[i] = 3*a[i] - 1"
   ]
  },
  {
   "cell_type": "code",
   "execution_count": null,
   "metadata": {},
   "outputs": [],
   "source": [
    "# b = 3a-1 with arrays\n",
    "a = np.linspace(0, 1, 100000)\n",
    "b = np.zeros(100000)\n",
    "%timeit b[:] = 3*a - 1"
   ]
  },
  {
   "cell_type": "markdown",
   "metadata": {},
   "source": [
    "Numpy also provides various optimized functions as sin, exp... for arrays"
   ]
  },
  {
   "cell_type": "code",
   "execution_count": null,
   "metadata": {},
   "outputs": [],
   "source": [
    "def f(x):\n",
    "    return np.exp(-x*x)*np.log(1 + x*np.sin(x))\n",
    "\n",
    "print(\"test 1\")\n",
    "x = np.linspace(0, 1, 100000)\n",
    "a = np.zeros(x.size)\n",
    "%timeit for i in range(x.size): a[i] = f(x[i])\n",
    "\n",
    "print(\"test 2\")\n",
    "x = np.linspace(0, 1, 100000)\n",
    "%timeit a = f(x)"
   ]
  },
  {
   "cell_type": "markdown",
   "metadata": {},
   "source": [
    "<div markdown=1 class=DoIt>\n",
    "\n",
    "- Save your notebook...\n",
    "- Create two random vectors $x$ and $y$ of size $n=10$, representing 10 cartesian coordinates $(x_k,y_k)$.\n",
    "- Convert them to polar coordinates $(r_k,\\theta_k)$.\n",
    "- Optimize and test your code for vectors $x$ and $y$ of size $n=10^5$ (compare efficiency of a loop, list comprehension and numpy element-wise operations on arrays)."
   ]
  },
  {
   "cell_type": "markdown",
   "metadata": {},
   "source": [
    "## Matplotlib"
   ]
  },
  {
   "cell_type": "markdown",
   "metadata": {
    "collapsed": true
   },
   "source": [
    "**Matplotlib** is a Python package for 2 dimensional plots. It can be used to produce figures inline in jupyter  notebooks. Lot of documentations about numpy can be found on the web, we give below basic examples that will be useful in the following.\n",
    "\n",
    "First, we need to import the matplotlib package."
   ]
  },
  {
   "cell_type": "code",
   "execution_count": null,
   "metadata": {},
   "outputs": [],
   "source": [
    "# In order to display plots inline:\n",
    "%matplotlib inline   \n",
    "\n",
    "# load the libraries\n",
    "import matplotlib.pyplot as plt # 2D plotting library\n",
    "import numpy as np              # package for scientific computing  "
   ]
  },
  {
   "cell_type": "markdown",
   "metadata": {},
   "source": [
    "### First plot"
   ]
  },
  {
   "cell_type": "markdown",
   "metadata": {},
   "source": [
    "We plot on the same figure sine and cosine on the interval $[-\\pi, \\pi]$."
   ]
  },
  {
   "cell_type": "code",
   "execution_count": null,
   "metadata": {},
   "outputs": [],
   "source": [
    "X = np.linspace(-np.pi, np.pi, 30)\n",
    "COS, SIN = np.cos(X), np.sin(X)\n",
    "plt.plot(X,COS)\n",
    "plt.plot(X, SIN)\n",
    "plt.show()"
   ]
  },
  {
   "cell_type": "markdown",
   "metadata": {},
   "source": [
    "### Modifying properties of the figure"
   ]
  },
  {
   "cell_type": "markdown",
   "metadata": {},
   "source": [
    "Most of the properties of a figure can be customized: color and style of the graphs, title, legend, labels... Bellow, we plot on the same figure sine and cosine on the interval $[-\\pi, \\pi]$, specifying some of the properties of the figure. You can try to comment or modify these properties..."
   ]
  },
  {
   "cell_type": "code",
   "execution_count": null,
   "metadata": {},
   "outputs": [],
   "source": [
    "# creates a figure with size 10x5 inches\n",
    "fig = plt.figure(figsize=(10, 5))\n",
    "\n",
    "# plot cosine, blue continuous line, width=1, label=cosine\n",
    "plt.plot(X, COS, color=\"blue\", linestyle=\"-\", linewidth=5, label='$cosine$')\n",
    "\n",
    "# plot sine, red dotted line, width=1, label=sine\n",
    "plt.plot(X, SIN, color=\"red\", linestyle=\"--\", linewidth=1, label='$sine$')\n",
    "\n",
    "# specify x and y limits\n",
    "plt.xlim(-np.pi*1.1, np.pi*1.1)\n",
    "plt.ylim(-1.1, 1.1)\n",
    "\n",
    "# add a label on x-axis\n",
    "plt.xlabel('x', fontsize=18)\n",
    "\n",
    "# add a title\n",
    "plt.title('Cosine and Sine functions', fontsize=18)\n",
    "\n",
    "# add a legend located at the top-left of the figure\n",
    "plt.legend(loc='upper left')\n",
    "\n",
    "# show the figure\n",
    "plt.show()"
   ]
  },
  {
   "cell_type": "markdown",
   "metadata": {},
   "source": [
    "<div markdown=1 class=DoIt>\n",
    "\n",
    "- On the same figure, plot $x\\to 1-\\cos(x)$ and $x\\to x-\\sin(x)$ for $x\\in [0,\\pi]$.\n",
    "- Add a legend. \n",
    "- On another figure, plot the same functions using a loglog scale (use plt.loglog, to plot log(f(x)) versus log(x))."
   ]
  },
  {
   "cell_type": "markdown",
   "metadata": {},
   "source": [
    "<div markdown=1 class=DoIt>\n",
    "\n",
    "- What do you notice on the loglog plot? Can you explain it? Create a text-cell with style \"Answer\" to write your comments."
   ]
  },
  {
   "cell_type": "markdown",
   "metadata": {},
   "source": [
    "### Creating several subfigures"
   ]
  },
  {
   "cell_type": "markdown",
   "metadata": {},
   "source": [
    "A “figure” in matplotlib means the whole window in the user interface. Within this figure there can be “subplots”. In the following, we use subplots to draw sine and cosine in two different plots."
   ]
  },
  {
   "cell_type": "code",
   "execution_count": null,
   "metadata": {},
   "outputs": [],
   "source": [
    "# create the figure\n",
    "fig = plt.figure(figsize=(10, 5))\n",
    "\n",
    "# Create a new subplot \n",
    "# input: (num-lines, num-columns, num of the current plot)\n",
    "plt.subplot(1, 2, 1)  # grid 1 x 2, current plot =1\n",
    "plt.plot(X, COS, color=\"blue\", linestyle=\"-\", linewidth=1)\n",
    "plt.xlim(-np.pi*1.1, np.pi*1.1)\n",
    "plt.ylim(-1.1, 1.1)\n",
    "plt.title('Cosine function', fontsize=18)\n",
    "\n",
    "# Create a new subplot \n",
    "plt.subplot(1, 2, 2)  # grid 1 x 2, current plot = 2\n",
    "plt.plot(X, SIN, color=\"red\", linestyle=\"-\", linewidth=1)\n",
    "plt.xlim(-np.pi*1.1, np.pi*1.1)\n",
    "plt.ylim(-1.1, 1.1)\n",
    "plt.title('Sine function', fontsize=18)\n",
    "\n",
    "plt.show()"
   ]
  },
  {
   "cell_type": "markdown",
   "metadata": {},
   "source": [
    "### Using equal axes"
   ]
  },
  {
   "cell_type": "markdown",
   "metadata": {},
   "source": [
    "It is also possible to impose the same scale on both axes. As an example, we plot below a circle of radius 1:"
   ]
  },
  {
   "cell_type": "code",
   "execution_count": null,
   "metadata": {},
   "outputs": [],
   "source": [
    "# create the figure\n",
    "fig = plt.figure(figsize=(15, 5))\n",
    "\n",
    "# Create a new subplot \n",
    "plt.subplot(1, 2, 1)  # grid 1 x 2, current plot =1\n",
    "plt.plot(COS, SIN, color=\"blue\", linestyle=\"-\", linewidth=1)\n",
    "plt.title('Without equal axes', fontsize=18)\n",
    "\n",
    "# Create a new subplot \n",
    "plt.subplot(1, 2, 2)  # grid 1 x 2, current plot = 2\n",
    "plt.axis('equal')\n",
    "plt.plot(COS, SIN, color=\"red\", linestyle=\"-\", linewidth=1)\n",
    "plt.title('With equal axes', fontsize=18)\n",
    "\n",
    "plt.show()"
   ]
  },
  {
   "cell_type": "markdown",
   "metadata": {},
   "source": [
    "<div markdown=1 class=DoIt>\n",
    "\n",
    "- Plot the butterfly curve."
   ]
  },
  {
   "cell_type": "markdown",
   "metadata": {
    "collapsed": true
   },
   "source": [
    "## To go further..."
   ]
  },
  {
   "cell_type": "markdown",
   "metadata": {
    "collapsed": true
   },
   "source": [
    "Lots of documentation and tutorials can be found on the web about Numpy and Matplotlib. A very complete tutorial for scientific python can be found here http://www.scipy-lectures.org/index.html. In particular, you can have a look at the two following chapters:\n",
    "\n",
    "- Numpy: http://www.scipy-lectures.org/intro/numpy/index.html\n",
    "- Matplotlib: http://www.scipy-lectures.org/intro/matplotlib/index.html"
   ]
  },
  {
   "cell_type": "code",
   "execution_count": 1,
   "metadata": {},
   "outputs": [
    {
     "data": {
      "text/html": [
       "<link href='http://fonts.googleapis.com/css?family=Fenix' rel='stylesheet' type='text/css'>\n",
       "<link href='http://fonts.googleapis.com/css?family=Alegreya+Sans:100,300,400,500,700,800,900,100italic,300italic,400italic,500italic,700italic,800italic,900italic' rel='stylesheet' type='text/css'>\n",
       "<link href='http://fonts.googleapis.com/css?family=Source+Code+Pro:300,400' rel='stylesheet' type='text/css'>\n",
       "<link href=\"https://fonts.googleapis.com/css?family=Oswald|Raleway\" rel=\"stylesheet\" type='text/css'> \n",
       "<style>\n",
       ".prompt{\n",
       "    display: none !important;\n",
       "}\n",
       "\n",
       ".rendered_html pre {\n",
       "    border: 1px solid #f0f6f9 !important;\n",
       "}\n",
       "\n",
       ".rendered_html pre, .rendered_html code {\n",
       "    background-color: #d3d8db !important;\n",
       "    padding: 1% !important;\n",
       "    line-height: 200% !important;\n",
       "    border-radius: 10px !important;\n",
       "}\n",
       "\n",
       "div.input_area {\n",
       "    border-radius: 10px !important;\n",
       "    background-color: #e1e1e6 !important;\n",
       "}\n",
       "\n",
       "div.cell{\n",
       "        width:85% !important;\n",
       "        margin-left:5% !important;\n",
       "        /*margin-right:auto;*/\n",
       "    }\n",
       "    h1, h2, h3, h4, h5 {\n",
       "        font-family: 'Oswald', sans-serif; !important;\n",
       "        font-style: oblique !important;\n",
       "    }\n",
       "    div.text_cell_render{\n",
       "        font-family: 'Raleway', sans-serif; !important;\n",
       "        line-height: 135% !important;\n",
       "        font-size: 120% !important;\n",
       "        width:100%;/*600px;*/\n",
       "        /*margin-left:auto;*/\n",
       "        /*margin-right:auto;*/\n",
       "    }\n",
       "    .CodeMirror{\n",
       "            font-family: \"Source Code Pro\" !important;\n",
       "\t\t\tfont-size: 100% !important;\n",
       "    }\n",
       "    .text_cell_render p{\n",
       "        text-align: justify !important;\n",
       "    }\n",
       "    .text_cell_render h1 {\n",
       "        font-weight: 200 !important;\n",
       "\t\tline-height: 100% !important;\n",
       "        color:#47597A !important;\n",
       "        margin-bottom: 10.em !important;\n",
       "        margin-top: 50.em !important;\n",
       "        padding-bottom: 50.em !important;\n",
       "        padding-top: 50.em !important;\n",
       "        display: block !important;\n",
       "        font-size: 300% !important;\n",
       "        text-align: center !important;\n",
       "        border-bottom: 1px solid #47597A !important;\n",
       "        border-top: 1px solid #47597A !important;\n",
       "    }\n",
       "    .text_cell_render h2 {\n",
       "        font-weight: 200 !important;\n",
       "\tline-height: 100% !important;\n",
       "        color:#47597A !important;\n",
       "        margin-bottom: 0.5em !important;\n",
       "        margin-top: 0.5em !important;\n",
       "        display: block !important;\n",
       "        font-size: 200% !important;\n",
       "        border-bottom: 1px solid #47597A !important;\n",
       "    }\n",
       "    .text_cell_render h3 {\n",
       "        font-weight: 200 !important;\n",
       "\tline-height: 100% !important;\n",
       "        color:#47597A !important;\n",
       "        margin-bottom: 0.5em !important;\n",
       "        margin-top: 0.5em !important;\n",
       "        display: block !important;\n",
       "        font-size: 150% !important;\n",
       "    }\n",
       "    .text_cell_render h4 {\n",
       "        font-style: italic !important;\n",
       "        font-weight: bold !important;\n",
       "\tline-height: 100% !important;\n",
       "        color:#47597A !important;\n",
       "        display: block !important;\n",
       "        font-size: 100% !important;\n",
       "    }\n",
       "    .text_cell_render h5 {\n",
       "        font-weight: 200 !important;\n",
       "\tline-height: 100% !important;\n",
       "        color:#47597A !important;\n",
       "        margin-bottom: 0.5em !important;\n",
       "        margin-top: 0.5em !important;\n",
       "        display: block !important;\n",
       "        font-size: 100% !important;\n",
       "    }\n",
       "    .text_cell_render ul {\n",
       "\tlist-style-type: disc !important;\n",
       "\tline-height: 2;\n",
       "\t/*color:#47597A !important;*/\n",
       "    }\n",
       "    .warning{\n",
       "        color: rgb( 240, 20, 20 ) !important;\n",
       "        }\n",
       "    .Abstract {  \n",
       "\ttext-align: justify;\n",
       "\tbackground-color: #d6edf9;\n",
       "\tborder-left: 5px solid #47597A;\n",
       "\tpadding: 0.5em;\n",
       "\tmargin: 0  150px 0 150px;\n",
       "    }\n",
       "    .Def {    \n",
       "\tbackground-color: #d9f7d7;\n",
       "\tborder-left: 5px solid #4a7047;\n",
       "\tpadding: 0.5em;\n",
       "    }\n",
       "    .Def:before {\n",
       "\tcontent: \"Definition.\";\n",
       "\tcolor:#4a7047;\n",
       "\tfont-weight: bold;\n",
       "\tfont-style: normal;\n",
       "    }\n",
       "    .DoIt {    \n",
       "\tbackground-color: #e8cfc9;\n",
       "\tborder-left: 5px solid #a90e05;\n",
       "\tpadding: 0.5em;\n",
       "    }\n",
       "    .DoIt:before {\n",
       "\tcontent: \"Do it yourself.\";\n",
       "\tcolor:#a90e05;\n",
       "\tfont-weight: bold;\n",
       "\tfont-style: normal;\n",
       "    }\n",
       "    .Answer {    \n",
       "\tbackground-color:   #fdf2e9  ;\n",
       "\tborder-left: 5px solid #a90e05;\n",
       "\tpadding: 0.5em;\n",
       "    }\n",
       "    .Answer:before {\n",
       "\tcontent: \"Answer.\";\n",
       "\tcolor:#a90e05;\n",
       "\tfont-weight: bold;\n",
       "\tfont-style: normal;\n",
       "    }\n",
       "    .Correction {    \n",
       "\tbackground-color: #ffffcc;\n",
       "\tborder-left: 5px solid #a90e05;\n",
       "\tpadding: 0.5em;\n",
       "    }\n",
       "    .Correction:before {\n",
       "\tcontent: \"Correction.\";\n",
       "\tcolor:#a90e05;\n",
       "\tfont-weight: bold;\n",
       "\tfont-style: normal;\n",
       "    }\n",
       "    .Prop {    \n",
       "\tbackground-color:#f9ecd1;\n",
       "\tborder-left: 5px solid #ba7021;\n",
       "\tpadding: 0.5em;\n",
       "    }\n",
       "   .Prop:before {\n",
       "       content: \"Proposition.\";\n",
       "       color:#ba7021;\n",
       "       font-weight: bold;\n",
       "       font-style: normal;\n",
       "    }\n",
       "   .Thm {    \n",
       "\tbackground-color:#f9ecd1;\n",
       "\tborder-left: 5px solid #ba7021;\n",
       "\tpadding: 0.5em;\n",
       "    }\n",
       "   .Thm:before {\n",
       "       content: \"Theorem.\";\n",
       "       color:#ba7021;\n",
       "       font-weight: bold;\n",
       "       font-style: normal;\n",
       "    } \n",
       "   .Algo {    \n",
       "\tbackground-color:#f9ecd1;\n",
       "\tborder-left: 5px solid #ba7021;\n",
       "\tpadding: 0.5em;\n",
       "    }\n",
       "   .Algo:before {\n",
       "       content: \"Algorithm.\";\n",
       "       color:#ba7021;\n",
       "       font-weight: bold;\n",
       "       font-style: normal;\n",
       "    }\n",
       "    .Rmk {    \n",
       "\tbackground-color: #dbf1fc;\n",
       "\tborder-left: 5px solid #385487;\n",
       "\tpadding: 0.5em;\n",
       "    }\n",
       "    .Rmk:before {\n",
       "\tcontent: \"Remark.\";\n",
       "\tcolor:#385487;\n",
       "\tfont-weight: bold;\n",
       "\tfont-style: normal;\n",
       "    }\n",
       "    .Fur {    \n",
       "\tbackground-color:  #e8daef;\n",
       "\tborder-left: 5px solid #5b2c6f;\n",
       "\tpadding: 0.5em;\n",
       "    }\n",
       "    .Fur:before {    \n",
       "\tcontent: \"Remark (to go further).\";\n",
       "\tcolor:  #5b2c6f;\n",
       "\tfont-weight: bold;\n",
       "\tfont-style: normal;\n",
       "    }\n",
       "    .Ex {    \n",
       "\tbackground-color: #dbf1fc;\n",
       "\tborder-left: 5px solid #385487;\n",
       "\tpadding: 0.5em;\n",
       "    }\n",
       "    .Ex:before {\n",
       "\tcontent: \"Example.\";\n",
       "\tcolor:#385487;\n",
       "\tfont-weight: bold;\n",
       "\tfont-style: normal;\n",
       "    }\n",
       "\n",
       "/*    .toc-item-num {\n",
       "#        display: none;\n",
       "#    }\n",
       "*/\n",
       "    .reveal section img{\n",
       "        margin: 0px auto;\n",
       "    }\n",
       "\n",
       "    div.output_area img{\n",
       "        display: block;\n",
       "        margin: 0px auto;\n",
       "    }\n",
       "  \n",
       "</style>\n",
       "\n",
       "<script>\n",
       "MathJax.Hub.Config({\n",
       "TeX: {extensions: [\"AMSmath.js\"] },\n",
       "                tex2jax: {\n",
       "                    inlineMath: [ ['$','$'], [\"\\\\(\",\"\\\\)\"] ],\n",
       "                    displayMath: [ ['$$','$$'], [\"\\\\[\",\"\\\\]\"] ]\n",
       "                },\n",
       "                displayAlign: 'center', // Change this to 'center' to center equations.\n",
       "                \"HTML-CSS\": {\n",
       "                    styles: {'.MathJax_Display': {\"margin\": 4}}\n",
       "                }\n",
       "        });\n",
       "\n",
       "\n",
       "\n",
       "</script>\n"
      ],
      "text/plain": [
       "<IPython.core.display.HTML object>"
      ]
     },
     "execution_count": 1,
     "metadata": {},
     "output_type": "execute_result"
    }
   ],
   "source": [
    "# execute this part to modify the css style\n",
    "from IPython.core.display import HTML\n",
    "def css_styling():\n",
    "    styles = open(\"./style/custom3.css\").read()\n",
    "    return HTML(styles)\n",
    "css_styling()"
   ]
  }
 ],
 "metadata": {
  "@webio": {
   "lastCommId": null,
   "lastKernelId": null
  },
  "kernelspec": {
   "display_name": "Python 3",
   "language": "python",
   "name": "python3"
  },
  "language_info": {
   "codemirror_mode": {
    "name": "ipython",
    "version": 3
   },
   "file_extension": ".py",
   "mimetype": "text/x-python",
   "name": "python",
   "nbconvert_exporter": "python",
   "pygments_lexer": "ipython3",
   "version": "3.7.6"
  },
  "latex_envs": {
   "LaTeX_envs_menu_present": true,
   "autoclose": false,
   "autocomplete": false,
   "bibliofile": "biblio.bib",
   "cite_by": "apalike",
   "current_citInitial": 1,
   "eqLabelWithNumbers": true,
   "eqNumInitial": 1,
   "hotkeys": {
    "equation": "Ctrl-E",
    "itemize": "Ctrl-I"
   },
   "labels_anchors": false,
   "latex_user_defs": false,
   "report_style_numbering": false,
   "user_envs_cfg": false
  },
  "toc": {
   "base_numbering": 1,
   "nav_menu": {},
   "number_sections": true,
   "sideBar": true,
   "skip_h1_title": false,
   "title_cell": "Table of Contents",
   "title_sidebar": "Contents",
   "toc_cell": false,
   "toc_position": {},
   "toc_section_display": true,
   "toc_window_display": false
  }
 },
 "nbformat": 4,
 "nbformat_minor": 2
}
