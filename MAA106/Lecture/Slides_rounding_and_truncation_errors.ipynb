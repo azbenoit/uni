{
 "cells": [
  {
   "cell_type": "markdown",
   "metadata": {
    "internals": {
     "slide_helper": "subslide_end",
     "slide_type": "subslide"
    },
    "slide_helper": "slide_end",
    "slideshow": {
     "slide_type": "slide"
    }
   },
   "source": [
    "##### <img src='./figures/logo-ecole-polytechnique-ve.jpg' style='position:absolute; top:0; right:0;' width='100px' height='' alt='' />\n",
    "\n",
    "<center><b>Bachelor of Ecole Polytechnique</b></center>\n",
    "<center>MAA106: Introduction to Numerical Analysis, year 1, semester 2</center>\n",
    "<center>Maxime Breden</center>\n",
    "  \n",
    "\n",
    "# Introduction to Computational Mathematics\n",
    "\n",
    "\n",
    "&nbsp;\n",
    "\n",
    "<img src=\"./figures/ApproxPi.png\" alt=\"Pi\" style=\"width: 800px;\"/>\n",
    "\n",
    "&nbsp;"
   ]
  },
  {
   "cell_type": "code",
   "execution_count": 1,
   "metadata": {
    "slideshow": {
     "slide_type": "skip"
    }
   },
   "outputs": [],
   "source": [
    "## loading python libraries\n",
    "\n",
    "# necessary to display plots inline:\n",
    "%matplotlib inline   \n",
    "\n",
    "# load the libraries\n",
    "import matplotlib.pyplot as plt # 2D plotting library\n",
    "plt.rcParams.update({'font.size': 50})\n",
    "import numpy as np              # package for scientific computing  \n",
    "\n",
    "from math import *              # package for mathematics (pi, arctan, sqrt, factorial ...)"
   ]
  },
  {
   "cell_type": "markdown",
   "metadata": {
    "slideshow": {
     "slide_type": "slide"
    }
   },
   "source": [
    "<a id=\"intro\"></a>\n",
    "## Introduction\n",
    "\n",
    "We will deal with two different types of approximation"
   ]
  },
  {
   "cell_type": "markdown",
   "metadata": {
    "slideshow": {
     "slide_type": "fragment"
    }
   },
   "source": [
    "- Mathematical approximation, or **truncation errors**.\n",
    "\n",
    "\\begin{equation*}\n",
    "e^x \\approx 1 + x +\\frac{x^2}{2} \\qquad{}\\text{or}\\qquad{} f'(x) \\approx \\frac{f(x+h)-f(x)}{h} \n",
    "\\end{equation*}"
   ]
  },
  {
   "cell_type": "markdown",
   "metadata": {
    "slideshow": {
     "slide_type": "fragment"
    }
   },
   "source": [
    "- Approximations made by the computer, or **rounding errors**."
   ]
  },
  {
   "cell_type": "code",
   "execution_count": 3,
   "metadata": {},
   "outputs": [
    {
     "name": "stdout",
     "output_type": "stream",
     "text": [
      "2.0000000000000004\n"
     ]
    }
   ],
   "source": [
    "x = sqrt(2) \n",
    "y = x*x\n",
    "print(y)"
   ]
  },
  {
   "cell_type": "markdown",
   "metadata": {
    "slideshow": {
     "slide_type": "subslide"
    }
   },
   "source": [
    "<div  markdown=1 class=\"Def\">\n",
    "If $x$ is an approximation of $x^*$,   \n",
    "\n",
    "- the **absolute error** between $x$ and $x^*$ is $\\left|\\,x-x^*\\right|$.\n",
    "- the **relative error** between $x$ and $x^*$ is $\\displaystyle\\frac{\\left|\\,x-x^*\\right|}{|\\,x^*\\,|}$."
   ]
  },
  {
   "cell_type": "markdown",
   "metadata": {
    "slideshow": {
     "slide_type": "fragment"
    }
   },
   "source": [
    "<div markdown=1 class=\"Ex\">\n",
    "Take\n",
    "\n",
    "\\begin{equation*}\n",
    "x=11,\\ x^*=10 \\quad{}\\text{and}\\quad{} y=1001,\\ y^*=1000.\n",
    "\\end{equation*}\n",
    "\n",
    "In both cases, the absolute error is $1$, but one might consider that $y$ approximates $y^*$ more accurately than $x$ does $x^*$. This is reflected in the relative error:\n",
    "\n",
    "\\begin{equation*}\n",
    "\\frac{\\left|\\,x-x^*\\right|}{|\\,x^*\\,|} = 0.1 \\qquad{} \\frac{\\left|\\,y-y^*\\right|}{|\\,y^*\\,|} = 0.001.\n",
    "\\end{equation*}"
   ]
  },
  {
   "cell_type": "markdown",
   "metadata": {
    "slideshow": {
     "slide_type": "slide"
    }
   },
   "source": [
    "<a id=\"RoundOff\"></a>\n",
    "## Machine representation of numbers: rounding errors"
   ]
  },
  {
   "cell_type": "markdown",
   "metadata": {},
   "source": [
    "<img src=\"figures/Zuse_z3.jpg\" alt=\"Zuse\" style=\"width: 300px;\"/>\n",
    "  \n",
    ">**Konrad Zuse (1910-1995) and the Z3-computer (1941).**"
   ]
  },
  {
   "cell_type": "code",
   "execution_count": 4,
   "metadata": {},
   "outputs": [
    {
     "name": "stdout",
     "output_type": "stream",
     "text": [
      "2.0000000000000004\n"
     ]
    }
   ],
   "source": [
    "x = sqrt(2)\n",
    "y = x**2\n",
    "print(y)"
   ]
  },
  {
   "cell_type": "markdown",
   "metadata": {
    "collapsed": true,
    "slideshow": {
     "slide_type": "slide"
    }
   },
   "source": [
    "### Machine representation of numbers"
   ]
  },
  {
   "cell_type": "markdown",
   "metadata": {
    "slideshow": {
     "slide_type": "fragment"
    }
   },
   "source": [
    "<div  markdown=1 class=\"Ex\"> The decimal system (or base-10 system).\n",
    "\n",
    "\\begin{equation*}\n",
    "[1000]_{10} = 1\\times 10^3\n",
    "\\end{equation*}\n",
    "\n",
    "\\begin{equation*}\n",
    "[6743.7]_{10} = 6\\times 10^3 + 7\\times 10^2 +4\\times 10^1 + 3\\times 10^0 + 7\\times 10^{-1}\n",
    "\\end{equation*}\n"
   ]
  },
  {
   "cell_type": "markdown",
   "metadata": {
    "slideshow": {
     "slide_type": "fragment"
    }
   },
   "source": [
    "<div  markdown=1 class=\"Ex\"> The binary system (or base-2 system).\n",
    "\n",
    "\\begin{equation*}\n",
    "[1000]_{2} = 1\\times 2^3\n",
    "\\end{equation*}\n",
    "\n",
    "\\begin{equation*}\n",
    "[1011.1]_{2} = 1\\times 2^3 + 0\\times 2^2 +1\\times 2^1 + 1\\times 2^0 + 1\\times 2^{-1} \\quad(= [11.5]_{10})\n",
    "\\end{equation*}"
   ]
  },
  {
   "cell_type": "markdown",
   "metadata": {
    "slideshow": {
     "slide_type": "subslide"
    }
   },
   "source": [
    "<div  markdown=1 class=\"Def\">\n",
    "\n",
    "**Normalized exponent representation in base 10.**\n",
    "\n",
    "A real number $x$ can be written as\n",
    "\n",
    "$$\n",
    "x=(-1)^{s_a} \\times [0.a]_{10} \\times 10^{(-1)^{s_b}\\ [b]_{10}} \\nonumber\n",
    "$$\n",
    "\n",
    "where the first digit of $a$ is different from $0$, and $b$ is an integer.\n"
   ]
  },
  {
   "cell_type": "markdown",
   "metadata": {
    "slideshow": {
     "slide_type": "fragment"
    }
   },
   "source": [
    "<div  markdown=1 class=\"Ex\"> \\begin{align*}\n",
    "-0.0047258 = -0.47258\\times 10^{-2}  =(-1)^{\\color{red}1} \\times 0.\\color{red}{47258}\\times 10^{(-1)^{\\color{red}1} \\times {\\color{red}2}}\n",
    "\\end{align*}"
   ]
  },
  {
   "cell_type": "markdown",
   "metadata": {
    "slideshow": {
     "slide_type": "fragment"
    }
   },
   "source": [
    "<div  markdown=1 class=\"Ex\"> \\begin{align*}\n",
    "\\frac{10}{3} = 3.3333333\\ldots = (-1)^\\color{red}{0} \\times 0.\\color{red}{33333333\\ldots} \\times 10^{(-1)^\\color{red}{0} \\times \\color{red}{1}}\n",
    "\\end{align*}"
   ]
  },
  {
   "cell_type": "markdown",
   "metadata": {
    "slideshow": {
     "slide_type": "fragment"
    }
   },
   "source": [
    "<div  markdown=1 class=\"Def\">\n",
    "\n",
    "**Machine numbers.**\n",
    "\n",
    "Let $m$ and $n$ be given integers. A *machine number* is a real number $x$ as above, with the length of $a$ and $b$ respectively lower than $m$ and $n$. It can be exaclty represented by the follwing word of size $N=n+m+2$:\n",
    " \n",
    "$$|\\quad{} s_a \\quad{}|\\quad{} a \\quad{}|\\quad{} s_b\\quad{}|\\quad{} b \\quad{}| \\nonumber$$"
   ]
  },
  {
   "cell_type": "markdown",
   "metadata": {
    "slideshow": {
     "slide_type": "fragment"
    }
   },
   "source": [
    "<div  markdown=1 class=\"Ex\"> Take $(m,n)=(5,2)$\n",
    "\n",
    "\\begin{align*}\n",
    "-0.0047258 =(-1)^{\\color{red}1} \\times 0.\\color{red}{47258}\\times 10^{(-1)^{\\color{red}1} \\times {\\color{red}2}} \\quad{}\\text{is a machine number}\n",
    "\\end{align*}\n",
    "\n",
    "$$|\\quad{} 1 \\quad{}|\\quad{} 47258 \\quad{}|\\quad{} 1\\quad{}|\\quad{} 02 \\quad{}| \\nonumber$$"
   ]
  },
  {
   "cell_type": "markdown",
   "metadata": {
    "slideshow": {
     "slide_type": "fragment"
    }
   },
   "source": [
    "<div  markdown=1 class=\"Ex\"> Take $(m,n)=(5,2)$\n",
    "\n",
    "\\begin{align*}\n",
    "\\frac{10}{3} = (-1)^\\color{red}{0} \\times 0.\\color{red}{33333333\\ldots} \\times 10^{(-1)^\\color{red}{0} \\times \\color{red}{1}} \\quad{}\\text{is NOT a machine number}\n",
    "\\end{align*}\n",
    "\n",
    "\n",
    "$$|\\quad{} 0 \\quad{}|\\quad{} 33333\\color{red}{33\\ldots} \\quad{}|\\quad{} 0\\quad{}|\\quad{} 01 \\quad{}| \\nonumber$$\n"
   ]
  },
  {
   "cell_type": "markdown",
   "metadata": {
    "slideshow": {
     "slide_type": "subslide"
    }
   },
   "source": [
    "<div  markdown=1 class=\"Def\"> Floating-point representation and rounding error.\n",
    "\n",
    "- $rd(x)$ is the closest machine number to $x$, called *floating-point* representation of $x$.\n",
    "- We call $\\frac{\\vert x-rd(x)\\vert }{\\vert x\\vert}$ the rounding error.\n",
    "- The smallest $\\varepsilon$ such that $\\frac{\\vert x-rd(x)\\vert }{\\vert x\\vert}\\leq \\varepsilon\\ \\forall~x$ is called the *machine precision*.\n"
   ]
  },
  {
   "cell_type": "markdown",
   "metadata": {
    "slideshow": {
     "slide_type": "fragment"
    }
   },
   "source": [
    "<div  markdown=1 class=\"Ex\"> Consider $m=5$, $n=2$, and $\\pi=3.14159265\\ldots$. \n",
    "\n",
    "$$rd(\\pi)=0.31416\\times 10^1  \\quad{}\\Rightarrow\\quad{} |\\quad{} 0 \\quad{}|\\quad{} 31416 \\quad{}|\\quad{} 0 \\quad{}|\\quad{} 01 \\quad{}|\n",
    "\\nonumber$$\n",
    "\n",
    "$$\n",
    "\\left|\\frac{\\pi-rd(\\pi)}{\\pi}\\right| \\approx 2.34\\times 10^{-6}\n",
    "\\nonumber\n",
    "$$"
   ]
  },
  {
   "cell_type": "code",
   "execution_count": 5,
   "metadata": {
    "slideshow": {
     "slide_type": "fragment"
    }
   },
   "outputs": [
    {
     "name": "stdout",
     "output_type": "stream",
     "text": [
      "3.141592653589793\n"
     ]
    }
   ],
   "source": [
    "print(pi)"
   ]
  },
  {
   "cell_type": "code",
   "execution_count": 6,
   "metadata": {
    "slideshow": {
     "slide_type": "fragment"
    }
   },
   "outputs": [
    {
     "name": "stdout",
     "output_type": "stream",
     "text": [
      "Is x equal to y? True\n"
     ]
    }
   ],
   "source": [
    "x = 0.1111111111111111  # 16 ones  \n",
    "y = 0.11111111111111111 # 17 ones\n",
    "print('Is x equal to y?', x==y)"
   ]
  },
  {
   "cell_type": "code",
   "execution_count": 7,
   "metadata": {
    "slideshow": {
     "slide_type": "fragment"
    }
   },
   "outputs": [
    {
     "name": "stdout",
     "output_type": "stream",
     "text": [
      "Is x equal to z? False\n"
     ]
    }
   ],
   "source": [
    "z = 0.111111111111111   # 15 ones\n",
    "print('Is x equal to z?', x==z)"
   ]
  },
  {
   "cell_type": "code",
   "execution_count": 8,
   "metadata": {
    "slideshow": {
     "slide_type": "fragment"
    }
   },
   "outputs": [
    {
     "name": "stdout",
     "output_type": "stream",
     "text": [
      "0.1\n"
     ]
    }
   ],
   "source": [
    "lie = 0.1\n",
    "print(lie)"
   ]
  },
  {
   "cell_type": "markdown",
   "metadata": {
    "slideshow": {
     "slide_type": "fragment"
    }
   },
   "source": [
    "<div mardown=1 class='Rmk'>\n",
    "    \n",
    "$$\n",
    "[0.1]_{10} = [0.\\underbrace{110011001100\\ldots}_{\\infty \\text{ many times }1100}]_2 \\times 2^{-3} \\nonumber\n",
    "$$\n",
    "    \n",
    "$$\n",
    "\\text{lie} = rd([0.1]_{10}) = [0.\\underbrace{110011001100\\ldots}_{\\text{only 52 digits}}]_2 \\times 2^{-3} \\nonumber\n",
    "$$"
   ]
  },
  {
   "cell_type": "markdown",
   "metadata": {
    "internals": {
     "slide_type": "subslide"
    },
    "slideshow": {
     "slide_type": "slide"
    }
   },
   "source": [
    "### Floating-point arithmetic"
   ]
  },
  {
   "cell_type": "markdown",
   "metadata": {
    "slideshow": {
     "slide_type": "fragment"
    }
   },
   "source": [
    "<div markdown=1 class='Ex'> \n",
    "\n",
    "Are the following numbers machine numbers for $m=5$ and $n=2$?\n",
    "\n",
    "- $x=3.1416$\n",
    "- $y=0.00011$\n",
    "- $s=x+y$"
   ]
  },
  {
   "cell_type": "markdown",
   "metadata": {
    "slideshow": {
     "slide_type": "fragment"
    }
   },
   "source": [
    "<div markdown=1 class='Answer'> $\\qquad{}\\qquad{}\\qquad{}\\qquad{}\\qquad{}\\qquad{}\\qquad{}\\qquad{}$\n",
    "\n",
    "- $x=0.31416\\times 10^{01} \\quad$ <span style=\"color:green\"> &#9745; <span>\n",
    "- $y=0.11000\\times 10^{-03} \\quad$ <span style=\"color:green\"> &#9745; <span>\n",
    "- $s=x+y = 0.31417\\color{red}{1}\\times 10^{01} \\quad$ <span style=\"color:red\"> &#9746; <span>"
   ]
  },
  {
   "cell_type": "markdown",
   "metadata": {
    "slideshow": {
     "slide_type": "subslide"
    }
   },
   "source": [
    "<div markdown=1 class='Def'> \n",
    "\n",
    "**Floating-point arithmetic (finite-digits arithmetic)**\n",
    "\n",
    "\\begin{align*}\n",
    "x \\oplus y = rd(\\, rd(x) + rd(y)\\,), &\\quad\\quad\\quad x \\ominus y = rd(\\, rd(x) - rd(y)\\,) \\\\\n",
    "x \\otimes y = rd(\\, rd(x) \\times rd(y)\\,), &\\quad\\quad\\quad x \\oslash y = rd(\\, rd(x)\\,\\, / \\,\\,rd(y)\\,) \n",
    "\\end{align*}\n"
   ]
  },
  {
   "cell_type": "markdown",
   "metadata": {
    "slideshow": {
     "slide_type": "fragment"
    }
   },
   "source": [
    "<div  markdown=1 class=\"Ex\"> For $m=5$ and $n=2$. $\\qquad{}\\qquad{}\\qquad{}$\n",
    "\n",
    "- $x=3.1416$\n",
    "- $y=0.00011$\n",
    "- $s=x+y=3.14171$\n",
    "- $s_{num}=x\\oplus y = rd(x+y) = 3.1417$\n",
    "\n",
    "\\begin{equation*}\n",
    "\\frac{\\vert s-s_{num}\\vert }{\\vert s \\vert} \\approx 3.18\\times 10^{-6}\n",
    "\\end{equation*}"
   ]
  },
  {
   "cell_type": "markdown",
   "metadata": {
    "slideshow": {
     "slide_type": "subslide"
    }
   },
   "source": [
    "<div  markdown=1 class=\"Ex\"> \n",
    "\n",
    "**Addition of a large and a small number.**\n",
    "\n",
    "- $x=1/3$\n",
    "- $y=6/7\\times 10^4$\n",
    "- $s=x+y =8571.7619\\ldots$"
   ]
  },
  {
   "cell_type": "markdown",
   "metadata": {
    "slideshow": {
     "slide_type": "fragment"
    }
   },
   "source": [
    "<div markdown=1 class='Answer'> For $m=5$ and $n=2$.\n",
    "\n",
    "\\begin{align*}\n",
    "rd\\left(x\\right)&=0.33333\\times 10^0\\\\\n",
    "rd\\left(y\\right)&=0.85714\\times 10^4\n",
    "\\end{align*}\n",
    "\n",
    "and\n",
    "\n",
    "\\begin{align*}\n",
    "x \\oplus y\n",
    "&= rd( 0.33333\\times 10^0 + 0.85714\\times 10^4) \\\\\n",
    "&= rd( 0.85717\\color{red}{3333} \\times 10^4)\\\\\n",
    "&= 8571.7\n",
    "\\end{align*}\n"
   ]
  },
  {
   "cell_type": "markdown",
   "metadata": {
    "slideshow": {
     "slide_type": "subslide"
    }
   },
   "source": [
    "<div  markdown=1 class=\"Ex\"> \n",
    "\n",
    "**Subtraction of nearly equal numbers.**\n",
    "\n",
    "- $y=6/7\\times 10^4$\n",
    "- $z=0.85717\\times 10^4$\n",
    "- $t=z-y=0.2714285\\ldots$"
   ]
  },
  {
   "cell_type": "markdown",
   "metadata": {
    "slideshow": {
     "slide_type": "fragment"
    }
   },
   "source": [
    "<div markdown=1 class='Answer'> For $m=5$ and $n=2$.\n",
    "\n",
    "\\begin{align*}\n",
    "rd\\left(y\\right)&=0.85714\\times 10^4\\\\\n",
    "rd\\left(z\\right)&=0.85717\\times 10^4\n",
    "\\end{align*}\n",
    "\n",
    "and\n",
    "\n",
    "\\begin{align*}\n",
    "z \\ominus y\n",
    "&= rd( 0.85717\\times 10^4 - 0.85714\\times 10^4) \\\\\n",
    "&= 0.3\n",
    "\\end{align*}\n",
    "\n",
    "**The relative error with the exact value is quite large $\\approx 10\\%$**\n"
   ]
  },
  {
   "cell_type": "markdown",
   "metadata": {
    "slideshow": {
     "slide_type": "subslide"
    }
   },
   "source": [
    "<div  markdown=1 class=\"Ex\"> The order of operations matters for floating-point arithmetic!\n",
    "\n",
    "- $x=1/3$\n",
    "- $y=6/7\\times 10^4$\n",
    "- $s=x+y-y = 0.333333\\ldots$"
   ]
  },
  {
   "cell_type": "markdown",
   "metadata": {
    "slideshow": {
     "slide_type": "fragment"
    }
   },
   "source": [
    "<div markdown=1 class='Answer'>\\begin{align*}\n",
    "s_1 &= \\color{red}{\\left(x\\oplus y\\right) \\ominus y} \\\\\n",
    "&= 0.85717 \\times 10^4 \\ominus y\\\\\n",
    "&= 0.3 \\qquad{}\\qquad{} (\\text{relative error} \\approx 10\\%)\n",
    "\\end{align*}\n"
   ]
  },
  {
   "cell_type": "markdown",
   "metadata": {
    "slideshow": {
     "slide_type": "fragment"
    }
   },
   "source": [
    "<div markdown=1 class='Answer'>\\begin{align*}\n",
    "s_2 &= \\color{green}{x\\oplus \\left(y \\ominus y \\right)}\\\\\n",
    "&= 0.33333  \\ominus 0\\\\\n",
    "&= 0.33333 \\qquad{}\\qquad{} (\\text{relative error} \\approx 0.001\\%)\n",
    "\\end{align*}\n"
   ]
  },
  {
   "cell_type": "code",
   "execution_count": 10,
   "metadata": {
    "slideshow": {
     "slide_type": "subslide"
    }
   },
   "outputs": [
    {
     "name": "stdout",
     "output_type": "stream",
     "text": [
      "s1 = 0.125\n",
      "s2 = 0.1\n",
      "The \"exact\" answer s = 0.1\n"
     ]
    }
   ],
   "source": [
    "## x + y - x = y ?\n",
    "\n",
    "x = 10**15\n",
    "y = 0.1\n",
    "s1 = (x + y) - x\n",
    "s2 = (x - x) + y\n",
    "s = y\n",
    "print('s1 =',s1)\n",
    "print('s2 =',s2)\n",
    "print('The \"exact\" answer s =',s)"
   ]
  },
  {
   "cell_type": "markdown",
   "metadata": {
    "internals": {
     "slide_helper": "subslide_end"
    },
    "slide_helper": "slide_end",
    "slideshow": {
     "slide_type": "slide"
    }
   },
   "source": [
    "<a id=\"trunc\"></a>\n",
    "## Mathematical approximations: truncation error"
   ]
  },
  {
   "cell_type": "markdown",
   "metadata": {
    "slideshow": {
     "slide_type": "fragment"
    }
   },
   "source": [
    "- We ignore rounding errors for the moment and assume that the computer can compute with real numbers exactly.\n",
    "\n",
    "- In most problems, there is still an important issue: there is no explicit and computable formula for the solution.\n",
    "\n",
    "- Therefore, we replace the initial problem by an easier one, for which we can actually compute the solution.\n",
    "\n",
    "- This leads to mathematical approximations, or **truncation errors**, that also have to be controlled.\n",
    "\n"
   ]
  },
  {
   "cell_type": "markdown",
   "metadata": {
    "slideshow": {
     "slide_type": "subslide"
    }
   },
   "source": [
    "<div markdown=1 class='Ex'> Approximate computation of a derivative:\n",
    "\n",
    "- $f$ a given derivable function, but no formula known for $f'$.\n",
    "- $a$ a given real number. \n",
    "\n",
    "**How to approximate $x^* = f'(a)$?**\n"
   ]
  },
  {
   "cell_type": "markdown",
   "metadata": {
    "slideshow": {
     "slide_type": "fragment"
    }
   },
   "source": [
    "<img src=\"./figures/ApproxDer.png\" alt=\"ApproxDer\" style=\"width: 1200px;\"/>"
   ]
  },
  {
   "cell_type": "markdown",
   "metadata": {
    "slideshow": {
     "slide_type": "subslide"
    }
   },
   "source": [
    "<div markdown=1 class='Algo'> Two options:\n",
    "\n",
    "$$\n",
    "x_h = \\frac{f(a+h)-f(a)}{h} \\qquad{}\\text{and}\\qquad{}\n",
    "\\bar x_h = \\frac{f(a+h)-f(a-h)}{2h}. \\nonumber\n",
    "$$\n"
   ]
  },
  {
   "cell_type": "markdown",
   "metadata": {
    "slideshow": {
     "slide_type": "fragment"
    }
   },
   "source": [
    "<div  markdown=1 class=\"Def\">\n",
    "\n",
    "**Truncation error.**\n",
    "\n",
    "$$e_h=\\left|\\, f'(a)-x_h \\,\\right| \\qquad{} \\text{ and } \\qquad{} \\bar e_h=\\left|\\, f'(a)-\\bar x_h \\,\\right|.\\nonumber$$"
   ]
  },
  {
   "cell_type": "markdown",
   "metadata": {
    "slideshow": {
     "slide_type": "fragment"
    }
   },
   "source": [
    "<div markdown=1 class=\"Qs\">\n",
    "\n",
    "- Does each algorithm converge, meaning that $e_h,\\bar e_h \\underset{h\\to 0}{\\longrightarrow}0$ ?\n",
    "- If yes, can we predict the *rate* or *speed* at which they converge ?\n",
    "- Can we make some quantitative prediction about the accuracy for a given $h$ ?"
   ]
  },
  {
   "cell_type": "code",
   "execution_count": 12,
   "metadata": {
    "slideshow": {
     "slide_type": "subslide"
    }
   },
   "outputs": [],
   "source": [
    "def f(x): \n",
    "    return x**5\n",
    "\n",
    "def ApproxDerivative1(f, a, h):\n",
    "    return (f(a+h) - f(a))/h\n",
    "\n",
    "def ApproxDerivative2(f, a, h): \n",
    "    return (f(a+h) - f(a-h))/(2*h)"
   ]
  },
  {
   "cell_type": "code",
   "execution_count": 21,
   "metadata": {
    "slideshow": {
     "slide_type": "fragment"
    }
   },
   "outputs": [
    {
     "name": "stdout",
     "output_type": "stream",
     "text": [
      "a = 1 , h = 1e-12 , exact value: f'(1)=5\n",
      "First algorithm: 5.000444502911705\n",
      "Second algorithm: 5.000166947155549\n"
     ]
    }
   ],
   "source": [
    "a = 1\n",
    "h = 0.000000000001\n",
    "x1 = ApproxDerivative1(f, a, h)\n",
    "x2 = ApproxDerivative2(f, a, h)\n",
    "print('a =', a, ', h =', h, ', exact value: f\\'(1)=5')\n",
    "print('First algorithm:', x1)\n",
    "print('Second algorithm:', x2)"
   ]
  },
  {
   "cell_type": "markdown",
   "metadata": {
    "slideshow": {
     "slide_type": "subslide"
    }
   },
   "source": [
    "<div markdown=1 class=\"Qs\">\n",
    "\n",
    "- It looks like $e_h,\\bar e_h \\underset{h\\to 0}{\\longrightarrow}0$. Can we prove it? Under which assumptions?\n",
    "- It also looks like $\\bar e_h$ goes to $0$ faster than $e_h$ does. Can we also prove that?"
   ]
  },
  {
   "cell_type": "markdown",
   "metadata": {
    "slideshow": {
     "slide_type": "fragment"
    }
   },
   "source": [
    "<div markdown=1 class='Rmk'>\n",
    "\n",
    "Usually, it is hard to exactly compute the error $e_h$. In practice, one often tries to find an **error estimator** $\\beta_h$ such that\n",
    "- $e_h \\leq \\beta_h$,\n",
    "- $\\beta_h \\underset{h\\to 0}{\\longrightarrow}0$.\n"
   ]
  },
  {
   "cell_type": "markdown",
   "metadata": {
    "slideshow": {
     "slide_type": "slide"
    }
   },
   "source": [
    "<a id=\"total\"></a>\n",
    "## Total numerical error"
   ]
  },
  {
   "cell_type": "code",
   "execution_count": 17,
   "metadata": {
    "slideshow": {
     "slide_type": "slide"
    }
   },
   "outputs": [
    {
     "data": {
      "image/png": "[encoded data removed]",
      "text/plain": [
       "<Figure size 2160x1800 with 1 Axes>"
      ]
     },
     "metadata": {
      "needs_background": "light"
     },
     "output_type": "display_data"
    }
   ],
   "source": [
    "a = 1\n",
    "\n",
    "n = np.arange(16)\n",
    "h = 10.**(-n) #sequence of h = [1, 1e-1, 1e-2 ... 1e-5]\n",
    "\n",
    "Der1 = ApproxDerivative1(f, a, h)\n",
    "Err1 = abs(Der1 - 5.)\n",
    "\n",
    "Der2 = ApproxDerivative2(f, a, h)\n",
    "Err2 = abs(Der2 - 5.)\n",
    "\n",
    "# plot of the errors versus h     \n",
    "fig = plt.figure(figsize=(30, 25))\n",
    "plt.loglog(h, Err1, linewidth=10, marker=\"o\", label=\"Algorithm 1\")\n",
    "plt.loglog(h, Err2, linewidth=10, marker=\"o\", label=\"Algorithm 2\")\n",
    "plt.legend(loc='upper left', fontsize=60)\n",
    "plt.xlabel('h', fontsize=60)\n",
    "plt.ylabel('Absolute error', fontsize=60)\n",
    "plt.title('Convergence of $x_h$ to $x^*=f\\'(a)$ for $f(x)=x^5$ and $a=1$', fontsize=60)\n",
    "\n",
    "plt.show()\n"
   ]
  },
  {
   "cell_type": "code",
   "execution_count": 1,
   "metadata": {
    "scrolled": true,
    "slideshow": {
     "slide_type": "skip"
    }
   },
   "outputs": [
    {
     "data": {
      "text/html": [
       "<link href='http://fonts.googleapis.com/css?family=Fenix' rel='stylesheet' type='text/css'>\n",
       "<link href='http://fonts.googleapis.com/css?family=Alegreya+Sans:100,300,400,500,700,800,900,100italic,300italic,400italic,500italic,700italic,800italic,900italic' rel='stylesheet' type='text/css'>\n",
       "<link href='http://fonts.googleapis.com/css?family=Source+Code+Pro:300,400' rel='stylesheet' type='text/css'>\n",
       "<link href=\"https://fonts.googleapis.com/css?family=Oswald|Raleway\" rel=\"stylesheet\" type='text/css'> \n",
       "<style>\n",
       ".prompt{\n",
       "    display: none !important;x\n",
       "}\n",
       "\n",
       ".rendered_html pre {\n",
       "    border: 1px solid #f0f6f9 !important;\n",
       "}\n",
       "\n",
       ".rendered_html pre, .rendered_html code {\n",
       "    background-color: #d3d8db !important;\n",
       "    padding: 1% !important;\n",
       "    line-height: 200% !important;\n",
       "    border-radius: 10px !important;\n",
       "}\n",
       "\n",
       "div.input_area {\n",
       "    border-radius: 10px !important;\n",
       "    background-color: #e1e1e6 !important;\n",
       "}\n",
       "\n",
       "div.output_area {\n",
       "    font-size: 200% !important;\n",
       "}\n",
       "\n",
       "\n",
       "div.cell{\n",
       "        width:85% !important;\n",
       "        margin-left:5% !important;\n",
       "        /*margin-right:auto;*/\n",
       "    }\n",
       "    h1, h2, h3, h4, h5 {\n",
       "        font-family: 'Oswald', sans-serif; !important;\n",
       "        font-style: oblique !important;\n",
       "    }\n",
       "    div.text_cell_render{\n",
       "        font-family: 'Raleway', sans-serif; !important;\n",
       "        line-height: 135% !important;\n",
       "        font-size: 120% !important;\n",
       "        width:100%;/*600px;*/\n",
       "        /*margin-left:auto;*/\n",
       "        /*margin-right:auto;*/\n",
       "    }\n",
       "    .CodeMirror{\n",
       "            font-family: \"Source Code Pro\" !important;\n",
       "\t\t\tfont-size: 200% !important;\n",
       "    }\n",
       "    .text_cell_render p{\n",
       "        text-align: justify !important;\n",
       "    }\n",
       "    .text_cell_render h1 {\n",
       "        font-weight: 200 !important;\n",
       "\t\tline-height: 100% !important;\n",
       "        color:#47597A !important;\n",
       "        margin-bottom: 10.em !important;\n",
       "        margin-top: 50.em !important;\n",
       "        padding-bottom: 50.em !important;\n",
       "        padding-top: 50.em !important;\n",
       "        display: block !important;\n",
       "        font-size: 300% !important;\n",
       "        text-align: center !important;\n",
       "        border-bottom: 1px solid #47597A !important;\n",
       "        border-top: 1px solid #47597A !important;\n",
       "    }\n",
       "    .text_cell_render h2 {\n",
       "        font-weight: 200 !important;\n",
       "\tline-height: 100% !important;\n",
       "        color:#47597A !important;\n",
       "        margin-bottom: 0.5em !important;\n",
       "        margin-top: 0.5em !important;\n",
       "        display: block !important;\n",
       "        font-size: 200% !important;\n",
       "        border-bottom: 1px solid #47597A !important;\n",
       "    }\n",
       "    .text_cell_render h3 {\n",
       "        font-weight: 200 !important;\n",
       "\tline-height: 100% !important;\n",
       "        color:#47597A !important;\n",
       "        margin-bottom: 0.5em !important;\n",
       "        margin-top: 0.5em !important;\n",
       "        display: block !important;\n",
       "        font-size: 150% !important;\n",
       "    }\n",
       "    .text_cell_render h4 {\n",
       "        font-style: italic !important;\n",
       "        font-weight: bold !important;\n",
       "\tline-height: 100% !important;\n",
       "        color:#47597A !important;\n",
       "        display: block !important;\n",
       "        font-size: 100% !important;\n",
       "    }\n",
       "    .text_cell_render h5 {\n",
       "        font-weight: 200 !important;\n",
       "\tline-height: 100% !important;\n",
       "        color:#47597A !important;\n",
       "        margin-bottom: 0.5em !important;\n",
       "        margin-top: 0.5em !important;\n",
       "        display: block !important;\n",
       "        font-size: 100% !important;\n",
       "    }\n",
       "    .text_cell_render ul {\n",
       "\tlist-style-type: disc !important;\n",
       "\tline-height: 2;\n",
       "\t/*color:#47597A !important;*/\n",
       "    }\n",
       "    .warning{\n",
       "        color: rgb( 240, 20, 20 ) !important;\n",
       "        }\n",
       "    .Abstract {  \n",
       "\ttext-align: justify;\n",
       "\tbackground-color: #d6edf9;\n",
       "\tborder-left: 5px solid #47597A;\n",
       "\tpadding: 0.5em;\n",
       "\tmargin: 0  150px 0 150px;\n",
       "    }\n",
       "    .Def {    \n",
       "\tbackground-color: #d9f7d7;\n",
       "\tborder-left: 5px solid #4a7047;\n",
       "\tpadding: 0.5em;\n",
       "    }\n",
       "    .Def:before {\n",
       "\tcontent: \"Definition.\";\n",
       "\tcolor:#4a7047;\n",
       "\tfont-weight: bold;\n",
       "\tfont-style: normal;\n",
       "    }\n",
       "    .DoIt {    \n",
       "\tbackground-color: #e8cfc9;\n",
       "\tborder-left: 5px solid #a90e05;\n",
       "\tpadding: 0.5em;\n",
       "    }\n",
       "    .DoIt:before {\n",
       "\tcontent: \"Do it yourself.\";\n",
       "\tcolor:#a90e05;\n",
       "\tfont-weight: bold;\n",
       "\tfont-style: normal;\n",
       "    }\n",
       "    .Q {    \n",
       "\tbackground-color: #e8cfc9;\n",
       "\tborder-left: 5px solid #a90e05;\n",
       "\tpadding: 0.5em;\n",
       "    }\n",
       "    .Q:before {\n",
       "\tcontent: \"Question.\";\n",
       "\tcolor:#a90e05;\n",
       "\tfont-weight: bold;\n",
       "\tfont-style: normal;\n",
       "    }\n",
       "    .Qs {    \n",
       "\tbackground-color: #e8cfc9;\n",
       "\tborder-left: 5px solid #a90e05;\n",
       "\tpadding: 0.5em;\n",
       "    }\n",
       "    .Qs:before {\n",
       "\tcontent: \"Questions.\";\n",
       "\tcolor:#a90e05;\n",
       "\tfont-weight: bold;\n",
       "\tfont-style: normal;\n",
       "    }\n",
       "    .Answer {    \n",
       "\tbackground-color:   #fdf2e9  ;\n",
       "\tborder-left: 5px solid #a90e05;\n",
       "\tpadding: 0.5em;\n",
       "    }\n",
       "    .Answer:before {\n",
       "\tcontent: \"Answer.\";\n",
       "\tcolor:#a90e05;\n",
       "\tfont-weight: bold;\n",
       "\tfont-style: normal;\n",
       "    }\n",
       "    .Correction {    \n",
       "\tbackground-color: #ffffcc;\n",
       "\tborder-left: 5px solid #a90e05;\n",
       "\tpadding: 0.5em;\n",
       "    }\n",
       "    .Correction:before {\n",
       "\tcontent: \"Correction.\";\n",
       "\tcolor:#a90e05;\n",
       "\tfont-weight: bold;\n",
       "\tfont-style: normal;\n",
       "    }\n",
       "    .Prop {    \n",
       "\tbackground-color:#f9ecd1;\n",
       "\tborder-left: 5px solid #ba7021;\n",
       "\tpadding: 0.5em;\n",
       "    }\n",
       "   .Prop:before {\n",
       "       content: \"Proposition.\";\n",
       "       color:#ba7021;\n",
       "       font-weight: bold;\n",
       "       font-style: normal;\n",
       "    }\n",
       "   .Thm {    \n",
       "\tbackground-color:#f9ecd1;\n",
       "\tborder-left: 5px solid #ba7021;\n",
       "\tpadding: 0.5em;\n",
       "    }\n",
       "   .Thm:before {\n",
       "       content: \"Theorem.\";\n",
       "       color:#ba7021;\n",
       "       font-weight: bold;\n",
       "       font-style: normal;\n",
       "    } \n",
       "   .Algo {    \n",
       "\tbackground-color:#f9ecd1;\n",
       "\tborder-left: 5px solid #ba7021;\n",
       "\tpadding: 0.5em;\n",
       "    }\n",
       "   .Algo:before {\n",
       "       content: \"Algorithm.\";\n",
       "       color:#ba7021;\n",
       "       font-weight: bold;\n",
       "       font-style: normal;\n",
       "    }\n",
       "    .Rmk {    \n",
       "\tbackground-color: #dbf1fc;\n",
       "\tborder-left: 5px solid #385487;\n",
       "\tpadding: 0.5em;\n",
       "    }\n",
       "    .Rmk:before {\n",
       "\tcontent: \"Remark.\";\n",
       "\tcolor:#385487;\n",
       "\tfont-weight: bold;\n",
       "\tfont-style: normal;\n",
       "    }\n",
       "    .Fur {    \n",
       "\tbackground-color:  #e8daef;\n",
       "\tborder-left: 5px solid #5b2c6f;\n",
       "\tpadding: 0.5em;\n",
       "    }\n",
       "    .Fur:before {    \n",
       "\tcontent: \"Remark (to go further).\";\n",
       "\tcolor:  #5b2c6f;\n",
       "\tfont-weight: bold;\n",
       "\tfont-style: normal;\n",
       "    }\n",
       "    .Ex {    \n",
       "\tbackground-color: #dbf1fc;\n",
       "\tborder-left: 5px solid #385487;\n",
       "\tpadding: 0.5em;\n",
       "    }\n",
       "    .Ex:before {\n",
       "\tcontent: \"Example.\";\n",
       "\tcolor:#385487;\n",
       "\tfont-weight: bold;\n",
       "\tfont-style: normal;\n",
       "    }\n",
       "\n",
       "/*    .toc-item-num {\n",
       "#        display: none;\n",
       "#    }\n",
       "*/\n",
       "    .reveal section img{\n",
       "        margin: 0px auto;\t\n",
       "    }\n",
       "\n",
       "    div.output_area img{\n",
       "        display: block;\n",
       "        margin: 0px auto;\n",
       "    }\n",
       "  \n",
       "</style>\n",
       "\n",
       "<script>\n",
       "MathJax.Hub.Config({\n",
       "TeX: {extensions: [\"AMSmath.js\"],\n",
       "\tequationNumbers: { autoNumber: \"AMS\", useLabelIds: false}},\n",
       "                tex2jax: {\n",
       "                    inlineMath: [ ['$','$'], [\"\\\\(\",\"\\\\)\"] ],\n",
       "                    displayMath: [ ['$$','$$'], [\"\\\\[\",\"\\\\]\"] ]\n",
       "                },\n",
       "                displayAlign: 'center', // Change this to 'center' to center equations.\n",
       "                \"HTML-CSS\": {\n",
       "                    styles: {'.MathJax_Display': {\"margin\": 1}}\n",
       "                }\n",
       "        });\n",
       "\n",
       "\n",
       "\n",
       "</script>\n"
      ],
      "text/plain": [
       "<IPython.core.display.HTML object>"
      ]
     },
     "execution_count": 1,
     "metadata": {},
     "output_type": "execute_result"
    }
   ],
   "source": [
    "# execute this part to modify the css style\n",
    "from IPython.core.display import HTML\n",
    "def css_styling():\n",
    "    styles = open(\"./style/custom_slides.css\").read()\n",
    "    return HTML(styles)\n",
    "css_styling()"
   ]
  },
  {
   "cell_type": "code",
   "execution_count": null,
   "metadata": {},
   "outputs": [],
   "source": []
  }
 ],
 "metadata": {
  "@webio": {
   "lastCommId": null,
   "lastKernelId": null
  },
  "celltoolbar": "Diaporama",
  "kernelspec": {
   "display_name": "Python 3",
   "language": "python",
   "name": "python3"
  },
  "language_info": {
   "codemirror_mode": {
    "name": "ipython",
    "version": 3
   },
   "file_extension": ".py",
   "mimetype": "text/x-python",
   "name": "python",
   "nbconvert_exporter": "python",
   "pygments_lexer": "ipython3",
   "version": "3.8.5"
  },
  "latex_envs": {
   "LaTeX_envs_menu_present": true,
   "autoclose": false,
   "autocomplete": false,
   "bibliofile": "biblio.bib",
   "cite_by": "apalike",
   "current_citInitial": 1,
   "eqLabelWithNumbers": false,
   "eqNumInitial": 1,
   "hotkeys": {
    "equation": "Ctrl-E",
    "itemize": "Ctrl-I"
   },
   "labels_anchors": false,
   "latex_user_defs": false,
   "report_style_numbering": false,
   "user_envs_cfg": false
  },
  "rise": {
   "scroll": true
  },
  "toc": {
   "base_numbering": 1,
   "nav_menu": {},
   "number_sections": true,
   "sideBar": true,
   "skip_h1_title": false,
   "title_cell": "Table of Contents",
   "title_sidebar": "Contents",
   "toc_cell": false,
   "toc_position": {
    "height": "calc(100% - 180px)",
    "left": "10px",
    "top": "150px",
    "width": "383px"
   },
   "toc_section_display": "block",
   "toc_window_display": false
  }
 },
 "nbformat": 4,
 "nbformat_minor": 1
}
